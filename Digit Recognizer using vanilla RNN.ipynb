{
 "cells": [
  {
   "cell_type": "markdown",
   "metadata": {},
   "source": [
    "# Digit Recognizer using vanilla RNN"
   ]
  },
  {
   "cell_type": "code",
   "execution_count": 1,
   "metadata": {},
   "outputs": [],
   "source": [
    "import tensorflow as tf\n",
    "import numpy as np \n",
    "from tensorflow.examples.tutorials.mnist import input_data"
   ]
  },
  {
   "cell_type": "code",
   "execution_count": 2,
   "metadata": {},
   "outputs": [
    {
     "name": "stdout",
     "output_type": "stream",
     "text": [
      "Extracting /tmp/data/train-images-idx3-ubyte.gz\n",
      "Extracting /tmp/data/train-labels-idx1-ubyte.gz\n",
      "Extracting /tmp/data/t10k-images-idx3-ubyte.gz\n",
      "Extracting /tmp/data/t10k-labels-idx1-ubyte.gz\n"
     ]
    }
   ],
   "source": [
    "mnist = input_data.read_data_sets(\"/tmp/data/\", one_hot=True)"
   ]
  },
  {
   "cell_type": "markdown",
   "metadata": {},
   "source": [
    "#### some constants"
   ]
  },
  {
   "cell_type": "code",
   "execution_count": 3,
   "metadata": {},
   "outputs": [],
   "source": [
    "element_size = 28\n",
    "time_steps = 28\n",
    "num_classes = 10\n",
    "batch_size = 128\n",
    "hidden_layer_size = 128"
   ]
  },
  {
   "cell_type": "code",
   "execution_count": 4,
   "metadata": {},
   "outputs": [],
   "source": [
    "#log directory \n",
    "LOG_DIR = \"logs/RNN_with_summaries\""
   ]
  },
  {
   "cell_type": "code",
   "execution_count": 5,
   "metadata": {},
   "outputs": [],
   "source": [
    "_inputs = tf.placeholder(tf.float32, shape=[None, time_steps, element_size], name='inputs')\n",
    "y = tf.placeholder(tf.float32, shape=[None, num_classes], name=\"labels\")"
   ]
  },
  {
   "cell_type": "code",
   "execution_count": 6,
   "metadata": {},
   "outputs": [],
   "source": [
    "# tensorboard \n",
    "def variable_summaries(var):\n",
    "    with tf.name_scope(\"summaries\"):\n",
    "        mean = tf.reduce_mean(var)\n",
    "        tf.summary.scalar('mean', mean)\n",
    "        with tf.name_scope(\"stddev\"):\n",
    "            stddev= tf.sqrt(tf.reduce_mean(tf.square(var - mean)))\n",
    "        tf.summary.scalar(\"stddev\", stddev)\n",
    "        tf.summary.scalar(\"max\", tf.reduce_max(var))\n",
    "        tf.summary.scalar(\"min\", tf.reduce_min(var))\n",
    "        tf.summary.histogram(\"histogram\", var)"
   ]
  },
  {
   "cell_type": "code",
   "execution_count": 7,
   "metadata": {},
   "outputs": [],
   "source": [
    "with tf.name_scope(\"rnn_weights\"):\n",
    "    with tf.name_scope(\"W_x\"):\n",
    "        Wx = tf.Variable(tf.zeros([element_size, hidden_layer_size]))\n",
    "        variable_summaries(Wx)\n",
    "    \n",
    "    with tf.name_scope(\"W_h\"):\n",
    "        Wh = tf.Variable(tf.zeros([hidden_layer_size, hidden_layer_size]))\n",
    "        variable_summaries(Wh)\n",
    "    \n",
    "    with tf.name_scope(\"bias\"):\n",
    "        bias = tf.Variable(tf.zeros([hidden_layer_size]))\n",
    "        variable_summaries(bias)"
   ]
  },
  {
   "cell_type": "code",
   "execution_count": 8,
   "metadata": {},
   "outputs": [],
   "source": [
    "def rnn_step(previous_hidden_state, x):\n",
    "    current_hidden_state = tf.tanh(tf.matmul(previous_hidden_state, Wh) + \n",
    "                                  tf.matmul(x, Wx) + bias)\n",
    "    return current_hidden_state"
   ]
  },
  {
   "cell_type": "code",
   "execution_count": 9,
   "metadata": {},
   "outputs": [],
   "source": [
    "processed_input = tf.transpose(_inputs, perm=[1, 0, 2])\n",
    "\n",
    "initial_hidden = tf.zeros([batch_size, hidden_layer_size])\n",
    "\n",
    "all_hidden_states = tf.scan(rnn_step, processed_input, initializer=initial_hidden,\n",
    "                           name=\"states\")"
   ]
  },
  {
   "cell_type": "code",
   "execution_count": 10,
   "metadata": {},
   "outputs": [],
   "source": [
    "# weights for output layer\n",
    "with tf.name_scope(\"linear_layer_weights\") as scope:\n",
    "    with tf.name_scope(\"W_linear\"):\n",
    "        Wl = tf.Variable(tf.truncated_normal([hidden_layer_size, num_classes], mean=0, stddev=0.01))\n",
    "        variable_summaries(Wl)\n",
    "    \n",
    "    with tf.name_scope(\"bias_linear\"):\n",
    "        bias_linear = tf.Variable(tf.truncated_normal([num_classes], mean=0, stddev=0.01))\n",
    "        variable_summaries(bias_linear)"
   ]
  },
  {
   "cell_type": "code",
   "execution_count": 11,
   "metadata": {},
   "outputs": [],
   "source": [
    "def get_linear_layer(hidden_state):\n",
    "    return tf.matmul(hidden_state, Wl) + bias_linear"
   ]
  },
  {
   "cell_type": "code",
   "execution_count": 12,
   "metadata": {},
   "outputs": [],
   "source": [
    "with tf.name_scope(\"linear_layer_weights\") as scope:\n",
    "    all_outputs = tf.map_fn(get_linear_layer, all_hidden_states)\n",
    "    output = all_outputs[-1]\n",
    "    tf.summary.histogram(\"outputs\", output)"
   ]
  },
  {
   "cell_type": "code",
   "execution_count": 13,
   "metadata": {},
   "outputs": [],
   "source": [
    "with tf.name_scope(\"cross_entropy\"):\n",
    "    cross_entropy = tf.reduce_mean(tf.nn.softmax_cross_entropy_with_logits(logits=output, labels=y))\n",
    "    tf.summary.scalar(\"cross_entropy\", cross_entropy)\n",
    "\n",
    "with tf.name_scope(\"train_step\"):\n",
    "    train_step = tf.train.RMSPropOptimizer(0.001, 0.9).minimize(cross_entropy)\n",
    "    \n",
    "with tf.name_scope(\"accuracy\"):\n",
    "    correct_prediction = tf.equal(tf.argmax(output, 1), tf.argmax(y, 1))\n",
    "    accuracy = (tf.reduce_mean(tf.cast(correct_prediction, tf.float32)))*100\n",
    "    tf.summary.scalar(\"accuracy\", accuracy)\n",
    "    \n",
    "merged = tf.summary.merge_all()"
   ]
  },
  {
   "cell_type": "code",
   "execution_count": 14,
   "metadata": {},
   "outputs": [
    {
     "name": "stdout",
     "output_type": "stream",
     "text": [
      "Iteration: 0, Minibatch loss: 2.302722, Training Accuracy: 8.59375\n",
      "Iteration: 1000, Minibatch loss: 1.267731, Training Accuracy: 46.87500\n",
      "Iteration: 2000, Minibatch loss: 0.467752, Training Accuracy: 85.93750\n",
      "Iteration: 3000, Minibatch loss: 0.327170, Training Accuracy: 87.50000\n",
      "Iteration: 4000, Minibatch loss: 0.300982, Training Accuracy: 91.40625\n",
      "Iteration: 5000, Minibatch loss: 0.089024, Training Accuracy: 96.09375\n",
      "Iteration: 6000, Minibatch loss: 0.041998, Training Accuracy: 99.21875\n",
      "Iteration: 7000, Minibatch loss: 0.050911, Training Accuracy: 99.21875\n",
      "Iteration: 8000, Minibatch loss: 0.053395, Training Accuracy: 98.43750\n",
      "Iteration: 9000, Minibatch loss: 0.077494, Training Accuracy: 98.43750\n",
      "Test Accuracy:  99\n"
     ]
    }
   ],
   "source": [
    "# running the vanilla model \n",
    "test_data = mnist.test.images[:batch_size].reshape((-1, time_steps, element_size))\n",
    "test_labels = mnist.test.labels[:batch_size]\n",
    "\n",
    "with tf.Session() as sess:\n",
    "    train_writer = tf.summary.FileWriter(LOG_DIR + \"/train\", graph=tf.get_default_graph())\n",
    "    test_writer = tf.summary.FileWriter(LOG_DIR + \"/test\", graph=tf.get_default_graph())\n",
    "    \n",
    "    sess.run(tf.global_variables_initializer())\n",
    "    \n",
    "    for i in range(10000):\n",
    "        batch_x, batch_y = mnist.train.next_batch(batch_size)\n",
    "        \n",
    "        batch_x = batch_x.reshape((batch_size, time_steps, element_size))\n",
    "        \n",
    "        summary, _ = sess.run([merged, train_step], feed_dict={\n",
    "            _inputs: batch_x, y: batch_y\n",
    "        })\n",
    "        train_writer.add_summary(summary, i)\n",
    "        \n",
    "        if i%1000 == 0:\n",
    "            acc, loss = sess.run([accuracy, cross_entropy], feed_dict={\n",
    "            _inputs: batch_x, y: batch_y\n",
    "            })\n",
    "            print \"Iteration: \" + str(i) +\", Minibatch loss: {:.6f}\".format(loss)\\\n",
    "            + \", Training Accuracy: {:.5f}\".format(acc)\n",
    "        \n",
    "        if i%10 == 0:\n",
    "            summary, acc = sess.run([merged, accuracy], feed_dict={\n",
    "                _inputs: test_data, y: test_labels\n",
    "            })\n",
    "            test_writer.add_summary(summary, i)\n",
    "            \n",
    "    test_accuracy = sess.run(accuracy, feed_dict={\n",
    "                _inputs: test_data, y: test_labels\n",
    "    })\n",
    "    print \"Test Accuracy:  %i\" %test_accuracy"
   ]
  },
  {
   "cell_type": "code",
   "execution_count": null,
   "metadata": {},
   "outputs": [],
   "source": []
  },
  {
   "cell_type": "code",
   "execution_count": null,
   "metadata": {},
   "outputs": [],
   "source": []
  },
  {
   "cell_type": "code",
   "execution_count": null,
   "metadata": {},
   "outputs": [],
   "source": []
  }
 ],
 "metadata": {
  "kernelspec": {
   "display_name": "Python 2",
   "language": "python",
   "name": "python2"
  },
  "language_info": {
   "codemirror_mode": {
    "name": "ipython",
    "version": 2
   },
   "file_extension": ".py",
   "mimetype": "text/x-python",
   "name": "python",
   "nbconvert_exporter": "python",
   "pygments_lexer": "ipython2",
   "version": "2.7.6"
  }
 },
 "nbformat": 4,
 "nbformat_minor": 2
}
