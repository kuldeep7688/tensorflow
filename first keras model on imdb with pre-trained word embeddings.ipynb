{
 "cells": [
  {
   "cell_type": "markdown",
   "metadata": {},
   "source": [
    "# first keras model on imdb with pre-trained word embeddings"
   ]
  },
  {
   "cell_type": "code",
   "execution_count": 1,
   "metadata": {},
   "outputs": [
    {
     "name": "stderr",
     "output_type": "stream",
     "text": [
      "/home/kuldeep.singh/.local/lib/python2.7/site-packages/h5py/__init__.py:36: FutureWarning: Conversion of the second argument of issubdtype from `float` to `np.floating` is deprecated. In future, it will be treated as `np.float64 == np.dtype(float).type`.\n",
      "  from ._conv import register_converters as _register_converters\n",
      "Using TensorFlow backend.\n"
     ]
    }
   ],
   "source": [
    "import tensorflow as tf\n",
    "import os\n",
    "import numpy as np\n",
    "import pandas as pd \n",
    "from sklearn.model_selection import train_test_split\n",
    "from sklearn.preprocessing import OneHotEncoder\n",
    "\n",
    "import keras\n",
    "# from keras.models import Sequential\n",
    "from keras.models import Model\n",
    "from keras.preprocessing.sequence import pad_sequences\n",
    "from keras.preprocessing.text import Tokenizer\n",
    "from keras.layers import Input, Dense, Embedding, LSTM, Dropout, Conv1D, MaxPooling1D, Flatten, GlobalAveragePooling1D, GlobalMaxPooling1D\n",
    "from keras.callbacks import Callback, EarlyStopping, TensorBoard\n",
    "from keras import regularizers\n",
    "\n",
    "import matplotlib.pyplot as plt\n",
    "%matplotlib inline\n",
    "\n",
    "# import warnings\n",
    "# warnings.filterwarnings('ignore')"
   ]
  },
  {
   "cell_type": "code",
   "execution_count": 2,
   "metadata": {},
   "outputs": [
    {
     "data": {
      "text/html": [
       "<div>\n",
       "<style scoped>\n",
       "    .dataframe tbody tr th:only-of-type {\n",
       "        vertical-align: middle;\n",
       "    }\n",
       "\n",
       "    .dataframe tbody tr th {\n",
       "        vertical-align: top;\n",
       "    }\n",
       "\n",
       "    .dataframe thead th {\n",
       "        text-align: right;\n",
       "    }\n",
       "</style>\n",
       "<table border=\"1\" class=\"dataframe\">\n",
       "  <thead>\n",
       "    <tr style=\"text-align: right;\">\n",
       "      <th></th>\n",
       "      <th>review</th>\n",
       "      <th>sentiment</th>\n",
       "    </tr>\n",
       "  </thead>\n",
       "  <tbody>\n",
       "    <tr>\n",
       "      <th>0</th>\n",
       "      <td>Usually I love Lesbian movies even when they a...</td>\n",
       "      <td>0.0</td>\n",
       "    </tr>\n",
       "    <tr>\n",
       "      <th>1</th>\n",
       "      <td>Prix de Beauté was made on the cusp of the cha...</td>\n",
       "      <td>1.0</td>\n",
       "    </tr>\n",
       "    <tr>\n",
       "      <th>2</th>\n",
       "      <td>This lasted several years despite the late hou...</td>\n",
       "      <td>1.0</td>\n",
       "    </tr>\n",
       "    <tr>\n",
       "      <th>3</th>\n",
       "      <td>This is 2009 and this way underrated gem has l...</td>\n",
       "      <td>1.0</td>\n",
       "    </tr>\n",
       "    <tr>\n",
       "      <th>4</th>\n",
       "      <td>John Waters has given us a genuinely enjoyable...</td>\n",
       "      <td>1.0</td>\n",
       "    </tr>\n",
       "  </tbody>\n",
       "</table>\n",
       "</div>"
      ],
      "text/plain": [
       "                                              review  sentiment\n",
       "0  Usually I love Lesbian movies even when they a...        0.0\n",
       "1  Prix de Beauté was made on the cusp of the cha...        1.0\n",
       "2  This lasted several years despite the late hou...        1.0\n",
       "3  This is 2009 and this way underrated gem has l...        1.0\n",
       "4  John Waters has given us a genuinely enjoyable...        1.0"
      ]
     },
     "execution_count": 2,
     "metadata": {},
     "output_type": "execute_result"
    }
   ],
   "source": [
    "path_to_movie_data = \"/data/users-workspace/kuldeep_data/movie_data.csv\"\n",
    "df = pd.read_csv(path_to_movie_data)\n",
    "df.head()"
   ]
  },
  {
   "cell_type": "code",
   "execution_count": 3,
   "metadata": {},
   "outputs": [
    {
     "name": "stdout",
     "output_type": "stream",
     "text": [
      "<class 'pandas.core.series.Series'>\n",
      "<class 'pandas.core.series.Series'>\n"
     ]
    }
   ],
   "source": [
    "texts = df.review\n",
    "print type(texts)\n",
    "\n",
    "labels = df.sentiment\n",
    "print type(labels)"
   ]
  },
  {
   "cell_type": "code",
   "execution_count": 4,
   "metadata": {},
   "outputs": [],
   "source": [
    "MAX_NB_WORDS = 20000\n",
    "MAX_SEQUENCE_LENGTH = 400"
   ]
  },
  {
   "cell_type": "code",
   "execution_count": 5,
   "metadata": {},
   "outputs": [],
   "source": [
    "tokenizer = Tokenizer(num_words=MAX_NB_WORDS)\n",
    "tokenizer.fit_on_texts(texts)\n",
    "sequences = tokenizer.texts_to_sequences(texts)"
   ]
  },
  {
   "cell_type": "code",
   "execution_count": 6,
   "metadata": {},
   "outputs": [
    {
     "name": "stdout",
     "output_type": "stream",
     "text": [
      "50000\n"
     ]
    },
    {
     "data": {
      "image/png": "[encoded data removed]",
      "text/plain": [
       "<matplotlib.figure.Figure at 0x7f3d1119ae90>"
      ]
     },
     "metadata": {},
     "output_type": "display_data"
    }
   ],
   "source": [
    "lenList = []\n",
    "for d in sequences:\n",
    "    counter = len(d)\n",
    "    lenList.append(counter)\n",
    "print len(lenList)\n",
    "\n",
    "#print lenList[:10]\n",
    "plt.figure(figsize=(20,10))\n",
    "plt.hist(lenList, 100)\n",
    "plt.xlabel('Sequence Length')\n",
    "plt.ylabel('Frequency')\n",
    "plt.axis([0, 1200, 0, 8000])\n",
    "plt.show()"
   ]
  },
  {
   "cell_type": "code",
   "execution_count": 7,
   "metadata": {},
   "outputs": [
    {
     "name": "stdout",
     "output_type": "stream",
     "text": [
      "Found 124259 unique tokens.\n"
     ]
    }
   ],
   "source": [
    "WORD_INDEX = tokenizer.word_index\n",
    "print \"Found %i unique tokens.\" %len(WORD_INDEX) # ????"
   ]
  },
  {
   "cell_type": "code",
   "execution_count": 8,
   "metadata": {},
   "outputs": [],
   "source": [
    "data = pad_sequences(sequences, maxlen=MAX_SEQUENCE_LENGTH)"
   ]
  },
  {
   "cell_type": "code",
   "execution_count": 9,
   "metadata": {},
   "outputs": [
    {
     "name": "stderr",
     "output_type": "stream",
     "text": [
      "/home/kuldeep.singh/.local/lib/python2.7/site-packages/ipykernel_launcher.py:2: FutureWarning: reshape is deprecated and will raise in a subsequent release. Please use .values.reshape(...) instead\n",
      "  \n"
     ]
    },
    {
     "data": {
      "text/plain": [
       "numpy.ndarray"
      ]
     },
     "execution_count": 9,
     "metadata": {},
     "output_type": "execute_result"
    }
   ],
   "source": [
    "one_hot_encoder = OneHotEncoder(sparse=False)\n",
    "labels_ = one_hot_encoder.fit_transform(labels.reshape(-1, 1))\n",
    "type(labels_)"
   ]
  },
  {
   "cell_type": "code",
   "execution_count": 10,
   "metadata": {},
   "outputs": [
    {
     "name": "stdout",
     "output_type": "stream",
     "text": [
      "shape of data tensor:  (50000, 400)\n",
      "shape of label tensor:  (50000, 2)\n"
     ]
    }
   ],
   "source": [
    "print \"shape of data tensor: \", data.shape\n",
    "print \"shape of label tensor: \", labels_.shape"
   ]
  },
  {
   "cell_type": "code",
   "execution_count": 11,
   "metadata": {},
   "outputs": [],
   "source": [
    "# splitting into train and test \n",
    "indices = range(data.shape[0])\n",
    "np.random.shuffle(indices)\n",
    "data = data[indices]\n",
    "labels_ = labels_[indices]"
   ]
  },
  {
   "cell_type": "code",
   "execution_count": 12,
   "metadata": {},
   "outputs": [],
   "source": [
    "x_train = data[:20000]\n",
    "y_train = labels_[:20000]\n",
    "\n",
    "x_val = data[20000: 25000]\n",
    "y_val = labels_[20000: 25000]\n",
    "\n",
    "x_test = data[25000: 30000]\n",
    "y_test = labels_[25000: 30000]"
   ]
  },
  {
   "cell_type": "code",
   "execution_count": 13,
   "metadata": {},
   "outputs": [
    {
     "name": "stdout",
     "output_type": "stream",
     "text": [
      "Found 400000 word vectors.\n"
     ]
    }
   ],
   "source": [
    "embeddings_index = {}\n",
    "GLOVE_DIR = \"/data/users-workspace/kuldeep_data/glove/\"\n",
    "f = open(os.path.join(GLOVE_DIR, 'glove.6B.300d.txt'))\n",
    "for line in f:\n",
    "    values = line.split()\n",
    "    word = values[0]\n",
    "    coefs = np.asarray(values[1:], dtype='float32')\n",
    "    embeddings_index[word] = coefs\n",
    "f.close()\n",
    "\n",
    "print('Found %s word vectors.' % len(embeddings_index))\n"
   ]
  },
  {
   "cell_type": "code",
   "execution_count": 14,
   "metadata": {},
   "outputs": [],
   "source": [
    "EMBEDDING_DIMENSION = 300\n",
    "EMBEDDING_MATRIX = np.zeros((len(WORD_INDEX) +1, EMBEDDING_DIMENSION))\n",
    "\n",
    "for word, i in WORD_INDEX.items():\n",
    "    embedding_vector = embeddings_index.get(word)\n",
    "    if embedding_vector is not None:\n",
    "        EMBEDDING_MATRIX[i] = embedding_vector"
   ]
  },
  {
   "cell_type": "code",
   "execution_count": 15,
   "metadata": {},
   "outputs": [],
   "source": [
    "embedding_layer = Embedding(len(WORD_INDEX) + 1,\n",
    "                           EMBEDDING_DIMENSION,\n",
    "                           weights=[EMBEDDING_MATRIX],\n",
    "                           input_length=MAX_SEQUENCE_LENGTH,\n",
    "                           trainable=False)"
   ]
  },
  {
   "cell_type": "code",
   "execution_count": 26,
   "metadata": {},
   "outputs": [],
   "source": [
    "def create_model():\n",
    "    \n",
    "    _input = Input(shape=(MAX_SEQUENCE_LENGTH, ), dtype='int32')\n",
    "    \n",
    "    embedded_sequences = embedding_layer(_input)\n",
    "\n",
    "    x = Conv1D(64, 8, activation='relu', padding=\"same\")(embedded_sequences)\n",
    "    x = MaxPooling1D(2, padding=\"same\")(x)\n",
    "    x = Dropout(rate=0.5)(x)\n",
    "    x = Conv1D(64, 4, activation='relu', padding=\"same\")(x)\n",
    "    x = MaxPooling1D(2,padding=\"same\")(x)\n",
    "    x = Dropout(rate=0.5)(x)\n",
    "    x = Conv1D(32, 4, activation='relu', padding=\"same\")(x)\n",
    "#     x = GlobalMaxPooling1D()(x)\n",
    "    x = MaxPooling1D(2, padding=\"same\")(x)  \n",
    "    \n",
    "    x = Conv1D(32, 4, activation='relu', padding=\"same\")(x)\n",
    "    x = MaxPooling1D(2, padding=\"same\")(x)\n",
    "    x = Dropout(rate=0.5)(x)\n",
    "    \n",
    "    x = Flatten()(x)\n",
    "#     x = Dropout(rate=0.4)(x)\n",
    "    x = Dense(100, activation='relu', kernel_regularizer=regularizers.l2(0.01))(x)\n",
    "    x = Dropout(rate=0.5)(x)\n",
    "    _outputs = Dense(2, activation='softmax')(x)\n",
    "\n",
    "    model = Model(_input, _outputs)\n",
    "    \n",
    "    model.compile(optimizer='adam',\n",
    "                  loss='categorical_crossentropy',\n",
    "                  metrics=['accuracy'])\n",
    "    \n",
    "    return model\n",
    "\n"
   ]
  },
  {
   "cell_type": "code",
   "execution_count": 27,
   "metadata": {
    "scrolled": true
   },
   "outputs": [
    {
     "name": "stdout",
     "output_type": "stream",
     "text": [
      "Train on 20000 samples, validate on 5000 samples\n",
      "Epoch 1/20\n",
      "20000/20000 [==============================] - 96s 5ms/step - loss: 1.1700 - acc: 0.5092 - val_loss: 0.7553 - val_acc: 0.5480\n",
      "Epoch 2/20\n",
      "20000/20000 [==============================] - 82s 4ms/step - loss: 0.5730 - acc: 0.7289 - val_loss: 0.4105 - val_acc: 0.8448\n",
      "Epoch 3/20\n",
      "20000/20000 [==============================] - 100s 5ms/step - loss: 0.4196 - acc: 0.8334 - val_loss: 0.3653 - val_acc: 0.8586\n",
      "Epoch 4/20\n",
      "20000/20000 [==============================] - 108s 5ms/step - loss: 0.3718 - acc: 0.8605 - val_loss: 0.3486 - val_acc: 0.8776\n",
      "Epoch 5/20\n",
      "20000/20000 [==============================] - 103s 5ms/step - loss: 0.3472 - acc: 0.8713 - val_loss: 0.3465 - val_acc: 0.8766\n",
      "Epoch 6/20\n",
      "20000/20000 [==============================] - 105s 5ms/step - loss: 0.3272 - acc: 0.8815 - val_loss: 0.3204 - val_acc: 0.8878\n",
      "Epoch 7/20\n",
      "20000/20000 [==============================] - 101s 5ms/step - loss: 0.3142 - acc: 0.8873 - val_loss: 0.3249 - val_acc: 0.8902\n",
      "Epoch 8/20\n",
      "20000/20000 [==============================] - 75s 4ms/step - loss: 0.2956 - acc: 0.8932 - val_loss: 0.3407 - val_acc: 0.8692\n",
      "Epoch 9/20\n",
      "20000/20000 [==============================] - 79s 4ms/step - loss: 0.2918 - acc: 0.8970 - val_loss: 0.2992 - val_acc: 0.8904\n",
      "Epoch 10/20\n",
      "20000/20000 [==============================] - 84s 4ms/step - loss: 0.2746 - acc: 0.9028 - val_loss: 0.3077 - val_acc: 0.8830\n",
      "Epoch 11/20\n",
      "20000/20000 [==============================] - 113s 6ms/step - loss: 0.2552 - acc: 0.9110 - val_loss: 0.3458 - val_acc: 0.8804\n",
      "Epoch 12/20\n",
      "20000/20000 [==============================] - 130s 6ms/step - loss: 0.2506 - acc: 0.9140 - val_loss: 0.3243 - val_acc: 0.8796\n",
      "Epoch 13/20\n",
      "20000/20000 [==============================] - 135s 7ms/step - loss: 0.2310 - acc: 0.9236 - val_loss: 0.3220 - val_acc: 0.8818\n",
      "Epoch 14/20\n",
      "20000/20000 [==============================] - 109s 5ms/step - loss: 0.2229 - acc: 0.9256 - val_loss: 0.2943 - val_acc: 0.8968\n",
      "Epoch 15/20\n",
      "20000/20000 [==============================] - 79s 4ms/step - loss: 0.2070 - acc: 0.9339 - val_loss: 0.3243 - val_acc: 0.8746\n",
      "Epoch 16/20\n",
      "20000/20000 [==============================] - 95s 5ms/step - loss: 0.2069 - acc: 0.9344 - val_loss: 0.3019 - val_acc: 0.8956\n",
      "Epoch 17/20\n",
      "20000/20000 [==============================] - 99s 5ms/step - loss: 0.1892 - acc: 0.9408 - val_loss: 0.3217 - val_acc: 0.8792\n",
      "Epoch 18/20\n",
      "20000/20000 [==============================] - 89s 4ms/step - loss: 0.1839 - acc: 0.9442 - val_loss: 0.2936 - val_acc: 0.8980\n",
      "Epoch 19/20\n",
      "20000/20000 [==============================] - 85s 4ms/step - loss: 0.1802 - acc: 0.9466 - val_loss: 0.2962 - val_acc: 0.8980\n",
      "Epoch 20/20\n",
      "20000/20000 [==============================] - 83s 4ms/step - loss: 0.1635 - acc: 0.9501 - val_loss: 0.3741 - val_acc: 0.8710\n"
     ]
    },
    {
     "data": {
      "text/plain": [
       "<keras.callbacks.History at 0x7f3c0e7227d0>"
      ]
     },
     "execution_count": 27,
     "metadata": {},
     "output_type": "execute_result"
    }
   ],
   "source": [
    "# happy learning!\n",
    "model = create_model()\n",
    "model.fit(x_train, y_train, validation_data=(x_val, y_val),\n",
    "          epochs=20, batch_size=128)\n"
   ]
  },
  {
   "cell_type": "code",
   "execution_count": 28,
   "metadata": {
    "scrolled": true
   },
   "outputs": [
    {
     "name": "stdout",
     "output_type": "stream",
     "text": [
      "_________________________________________________________________\n",
      "Layer (type)                 Output Shape              Param #   \n",
      "=================================================================\n",
      "input_7 (InputLayer)         (None, 400)               0         \n",
      "_________________________________________________________________\n",
      "embedding_1 (Embedding)      (None, 400, 300)          37278000  \n",
      "_________________________________________________________________\n",
      "conv1d_21 (Conv1D)           (None, 400, 128)          153728    \n",
      "_________________________________________________________________\n",
      "max_pooling1d_21 (MaxPooling (None, 200, 128)          0         \n",
      "_________________________________________________________________\n",
      "dropout_21 (Dropout)         (None, 200, 128)          0         \n",
      "_________________________________________________________________\n",
      "conv1d_22 (Conv1D)           (None, 200, 64)           16448     \n",
      "_________________________________________________________________\n",
      "max_pooling1d_22 (MaxPooling (None, 100, 64)           0         \n",
      "_________________________________________________________________\n",
      "dropout_22 (Dropout)         (None, 100, 64)           0         \n",
      "_________________________________________________________________\n",
      "conv1d_23 (Conv1D)           (None, 100, 32)           4128      \n",
      "_________________________________________________________________\n",
      "max_pooling1d_23 (MaxPooling (None, 50, 32)            0         \n",
      "_________________________________________________________________\n",
      "conv1d_24 (Conv1D)           (None, 50, 32)            2080      \n",
      "_________________________________________________________________\n",
      "max_pooling1d_24 (MaxPooling (None, 25, 32)            0         \n",
      "_________________________________________________________________\n",
      "dropout_23 (Dropout)         (None, 25, 32)            0         \n",
      "_________________________________________________________________\n",
      "flatten_5 (Flatten)          (None, 800)               0         \n",
      "_________________________________________________________________\n",
      "dense_11 (Dense)             (None, 100)               80100     \n",
      "_________________________________________________________________\n",
      "dropout_24 (Dropout)         (None, 100)               0         \n",
      "_________________________________________________________________\n",
      "dense_12 (Dense)             (None, 2)                 202       \n",
      "=================================================================\n",
      "Total params: 37,534,686\n",
      "Trainable params: 256,686\n",
      "Non-trainable params: 37,278,000\n",
      "_________________________________________________________________\n"
     ]
    }
   ],
   "source": [
    "model.summary()"
   ]
  },
  {
   "cell_type": "code",
   "execution_count": 31,
   "metadata": {},
   "outputs": [],
   "source": [
    "# defining model function \n",
    "def setup_model():\n",
    "    \n",
    "    _input = Input(shape=(MAX_SEQUENCE_LENGTH, ), dtype='int32')\n",
    "    \n",
    "    embedded_sequences = embedding_layer(_input)\n",
    "\n",
    "    \n",
    "    x = Conv1D(128, 4, activation='relu', padding=\"same\")(embedded_sequences)\n",
    "    x = MaxPooling1D(2, padding=\"same\", strides=1)(x)\n",
    "    x = Dropout(rate=0.5)(x)\n",
    "    x = Conv1D(64, 2, activation='relu', padding=\"same\")(x)\n",
    "    x = MaxPooling1D(2, padding=\"same\", strides=1)(x)\n",
    "    x = Dropout(rate=0.5)(x)\n",
    "#     x = Conv1D(128, 5, activation='relu')(x)\n",
    "#     x = MaxPooling1D(5)(x)\n",
    "#     x = Dropout(rate=0.2)(x)\n",
    "#     x = Flatten()(x)\n",
    "\n",
    "    x = LSTM(128, return_sequences=True, dropout=0.4, kernel_regularizer=regularizers.l2(0.03))(x)\n",
    "#     x = Dropout(rate=0.5)(x)\n",
    "    x = LSTM(128, dropout=0.4, kernel_regularizer=regularizers.l2(0.03))(x)\n",
    "#     x = Dropout(rate=0.5)(x)\n",
    "    \n",
    "    _output = Dense(2, activation=\"sigmoid\")(x)\n",
    "    \n",
    "    model = Model(inputs=_input, outputs=_output)\n",
    "    model.compile(optimizer='adam',\n",
    "                  loss='categorical_crossentropy',\n",
    "                  metrics=['accuracy'])\n",
    "\n",
    "    return model"
   ]
  },
  {
   "cell_type": "code",
   "execution_count": null,
   "metadata": {
    "scrolled": true
   },
   "outputs": [
    {
     "name": "stdout",
     "output_type": "stream",
     "text": [
      "Train on 20000 samples, validate on 5000 samples\n",
      "Epoch 1/20\n",
      "20000/20000 [==============================] - 444s 22ms/step - loss: 2.3382 - acc: 0.6628 - val_loss: 0.5529 - val_acc: 0.8022\n",
      "Epoch 2/20\n",
      "10112/20000 [==============>...............] - ETA: 3:01 - loss: 0.5681 - acc: 0.7537"
     ]
    }
   ],
   "source": [
    "model = setup_model()\n",
    "model.fit(x_train, y_train, epochs=20, batch_size=128,  validation_data=(x_val, y_val)) #,\n",
    "#           callbacks=[TensorBoard(log_dir='/data/users-workspace/kuldeep_data/tensorflow_logs/keras_imdb_1'),\n",
    "#                      early_stop])\n"
   ]
  },
  {
   "cell_type": "code",
   "execution_count": 141,
   "metadata": {},
   "outputs": [
    {
     "name": "stdout",
     "output_type": "stream",
     "text": [
      "5000/5000 [==============================] - 38s 8ms/step\n",
      "('Train score:', 0.04585642672777176)\n",
      "('Train accuracy:', 0.9915)\n",
      "5000/5000 [==============================] - 38s 8ms/step\n",
      "('Test score:', 0.3417934672564268)\n",
      "('Test accuracy:', 0.892)\n"
     ]
    }
   ],
   "source": [
    "batch_size = 128\n",
    "score, acc = model.evaluate(x_train[:5000], y_train[:5000], batch_size=batch_size)\n",
    "print('Train score:', score)\n",
    "print('Train accuracy:', acc)\n",
    "\n",
    "score, acc = model.evaluate(x_val, y_val, batch_size=batch_size)\n",
    "print('Test score:', score)\n",
    "print('Test accuracy:', acc)\n"
   ]
  },
  {
   "cell_type": "code",
   "execution_count": null,
   "metadata": {},
   "outputs": [],
   "source": []
  }
 ],
 "metadata": {
  "kernelspec": {
   "display_name": "Python 2",
   "language": "python",
   "name": "python2"
  },
  "language_info": {
   "codemirror_mode": {
    "name": "ipython",
    "version": 2
   },
   "file_extension": ".py",
   "mimetype": "text/x-python",
   "name": "python",
   "nbconvert_exporter": "python",
   "pygments_lexer": "ipython2",
   "version": "2.7.6"
  }
 },
 "nbformat": 4,
 "nbformat_minor": 2
}
