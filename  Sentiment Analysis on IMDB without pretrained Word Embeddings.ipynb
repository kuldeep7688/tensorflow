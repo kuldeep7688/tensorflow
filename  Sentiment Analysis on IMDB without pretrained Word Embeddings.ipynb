{
 "cells": [
  {
   "cell_type": "markdown",
   "metadata": {},
   "source": [
    "# Sentiment Analysis on IMDB without pretrained Word Embeddings"
   ]
  },
  {
   "cell_type": "code",
   "execution_count": 1,
   "metadata": {},
   "outputs": [],
   "source": [
    "import re\n",
    "import pandas as pd\n",
    "import numpy as np \n",
    "import tensorflow as tf\n",
    "# import spacy \n",
    "from sklearn.feature_extraction.text import CountVectorizer\n",
    "import matplotlib.pyplot as plt\n",
    "%matplotlib inline"
   ]
  },
  {
   "cell_type": "code",
   "execution_count": 2,
   "metadata": {},
   "outputs": [],
   "source": [
    "# from spacy.lang.en import English\n",
    "# nlp = spacy.load(\"en\")"
   ]
  },
  {
   "cell_type": "markdown",
   "metadata": {},
   "source": [
    "#### Reading data"
   ]
  },
  {
   "cell_type": "code",
   "execution_count": 3,
   "metadata": {},
   "outputs": [
    {
     "data": {
      "text/html": [
       "<div>\n",
       "<style scoped>\n",
       "    .dataframe tbody tr th:only-of-type {\n",
       "        vertical-align: middle;\n",
       "    }\n",
       "\n",
       "    .dataframe tbody tr th {\n",
       "        vertical-align: top;\n",
       "    }\n",
       "\n",
       "    .dataframe thead th {\n",
       "        text-align: right;\n",
       "    }\n",
       "</style>\n",
       "<table border=\"1\" class=\"dataframe\">\n",
       "  <thead>\n",
       "    <tr style=\"text-align: right;\">\n",
       "      <th></th>\n",
       "      <th>review</th>\n",
       "      <th>sentiment</th>\n",
       "    </tr>\n",
       "  </thead>\n",
       "  <tbody>\n",
       "    <tr>\n",
       "      <th>0</th>\n",
       "      <td>Usually I love Lesbian movies even when they a...</td>\n",
       "      <td>0.0</td>\n",
       "    </tr>\n",
       "    <tr>\n",
       "      <th>1</th>\n",
       "      <td>Prix de Beauté was made on the cusp of the cha...</td>\n",
       "      <td>1.0</td>\n",
       "    </tr>\n",
       "    <tr>\n",
       "      <th>2</th>\n",
       "      <td>This lasted several years despite the late hou...</td>\n",
       "      <td>1.0</td>\n",
       "    </tr>\n",
       "    <tr>\n",
       "      <th>3</th>\n",
       "      <td>This is 2009 and this way underrated gem has l...</td>\n",
       "      <td>1.0</td>\n",
       "    </tr>\n",
       "    <tr>\n",
       "      <th>4</th>\n",
       "      <td>John Waters has given us a genuinely enjoyable...</td>\n",
       "      <td>1.0</td>\n",
       "    </tr>\n",
       "  </tbody>\n",
       "</table>\n",
       "</div>"
      ],
      "text/plain": [
       "                                              review  sentiment\n",
       "0  Usually I love Lesbian movies even when they a...        0.0\n",
       "1  Prix de Beauté was made on the cusp of the cha...        1.0\n",
       "2  This lasted several years despite the late hou...        1.0\n",
       "3  This is 2009 and this way underrated gem has l...        1.0\n",
       "4  John Waters has given us a genuinely enjoyable...        1.0"
      ]
     },
     "execution_count": 3,
     "metadata": {},
     "output_type": "execute_result"
    }
   ],
   "source": [
    "df = pd.read_csv(\"/home/kuldeep.singh/clarity_social_media_analysis/imdb_movie_data_project/movie_data.csv\")\n",
    "df.head()"
   ]
  },
  {
   "cell_type": "markdown",
   "metadata": {},
   "source": [
    "#### preprocessing text before doing further operations"
   ]
  },
  {
   "cell_type": "code",
   "execution_count": 4,
   "metadata": {},
   "outputs": [],
   "source": [
    "def preprocess_text(text):\n",
    "    text = re.sub(\"<[^>]*>\", \"\", text)\n",
    "    strip_special_chars = re.compile(\"[^A-Za-z0-9 ]+\")\n",
    "    text = re.sub(strip_special_chars, \" \", text.lower())\n",
    "    text = re.sub(\"  \", \" \", text)\n",
    "    return text"
   ]
  },
  {
   "cell_type": "code",
   "execution_count": 5,
   "metadata": {},
   "outputs": [
    {
     "name": "stdout",
     "output_type": "stream",
     "text": [
      "Usually I love Lesbian movies even when they are not very good. I'm biased, I guess! <br /><br />But this one is just the pits. Yes, the scenery and the buildings are beautiful, and there is a brief but beautiful erotic interlude, but otherwise this movie is just a complete waste of time. Annamarie alternates between sulking and getting high/stoned/passing out on whatever drug or booze is handy, and Ella inexplicably puts up with this abominable behavior through the entire movie. At no time are we given any insight into why this is so, or even why Annamarie is so depressed and withdrawn.<br /><br />If there had at least been some kind of closure in the (potentially romantic? we don't even know!) relationship between the two, there might have been some kind of satisfaction. But although Annamarie at one point asks Ella \"why do you love me?\" Ella doesn't even acknowledge this. It's never really clear whether this is anything more than an (ill-behaved) Lesbian on a boring road trip with a straight woman.<br /><br />Even the interactions between the two women and the local people they meet on the journey, which could have been lively and informative, are instead flat, tedious and mostly incomprehensible.<br /><br />There is one good joke in the movie, although I'm sure it was unintentional. The women travel in a two-seat Ford coupe with a middling sized trunk. Yet when they set up camp, they have an enormous tent, cots, sleeping gear, and even a table, chair, and typewriter! On top of that, when they board a ferry, we see piles of luggage, presumably theirs, presumably also carried in the little Ford's trunk! <br /><br />And through the entire film, we never see one gas station, or anywhere that looks like it would actually have any place to buy gasoline. Mostly they travel through endless miles of desolate desert. So where did they get fuel?<br /><br />There may not be too many Lesbian films out there, good or bad, but there are plenty that are better than this, and very few that are worse. Leave this one in the rack.\n",
      "\n",
      "\n",
      "usually i love lesbian movies even when they are not very good i m biased i guess but this one is just the pits yes the scenery and the buildings are beautiful and there is a brief but beautiful erotic interlude but otherwise this movie is just a complete waste of time annamarie alternates between sulking and getting high stoned passing out on whatever drug or booze is handy and ella inexplicably puts up with this abominable behavior through the entire movie at no time are we given any insight into why this is so or even why annamarie is so depressed and withdrawn if there had at least been some kind of closure in the potentially romantic we don t even know relationship between the two there might have been some kind of satisfaction but although annamarie at one point asks ella why do you love me ella doesn t even acknowledge this it s never really clear whether this is anything more than an ill behaved lesbian on a boring road trip with a straight woman even the interactions between the two women and the local people they meet on the journey which could have been lively and informative are instead flat tedious and mostly incomprehensible there is one good joke in the movie although i m sure it was unintentional the women travel in a two seat ford coupe with a middling sized trunk yet when they set up camp they have an enormous tent cots sleeping gear and even a table chair and typewriter on top of that when they board a ferry we see piles of luggage presumably theirs presumably also carried in the little ford s trunk and through the entire film we never see one gas station or anywhere that looks like it would actually have any place to buy gasoline mostly they travel through endless miles of desolate desert so where did they get fuel there may not be too many lesbian films out there good or bad but there are plenty that are better than this and very few that are worse leave this one in the rack \n",
      "\n",
      "\n",
      "\n",
      "\n",
      "Prix de Beauté was made on the cusp of the changeover from silence to sound, which came a little later in Europe than in Hollywood. Originally conceived as a silent, it was released with a dubbed soundtrack in France, with a French actress speaking Louise Brooks' lines, but was released as a silent in Italy and other parts of Europe. I was lucky enough to see the Cineteca di Bologna's flawless new restoration of an Italian silent print at the Tribeca Film Festival. I haven't seen the talkie version yet, but I think it's safe to assume the silent version is much more satisfying, since by all reports the dubbing is poorly done (Louise Brooks is clearly speaking English, so there's no way her lips could be matched.) Also, the film is made entirely in the silent style, with few titles and little need for dialogue. Prix de Beauté tells its story visually, with exciting, imaginative camera-work. The opening is instantly kinetic, with rapidly-cut scenes of urban life and swimmers splashing at a public beach. Throughout the film there is an emphasis on visual detail, on clothing, machinery, decoration, and symbolic images such as a caged bird, a heap of torn photographs, a diamond bracelet. This is silent film technique at its pinnacle.<br /><br />Louise Brooks, of course, is responsible for saving the film from obscurity. Seeing this makes it only more heartbreaking to reflect that this was her last starring role. Lustrously beautiful, she dominates the film with her charisma and also gives a perfectly natural yet highly charged performance. Her role here, more than in the Pabst films for which she's best known, is a woman we can fully understand and sympathize with. She plays Lucienne Garnier, a typist with a possessive fiancé, who yearns to get more out of life and secretly enters a beauty contest, with immediate success. She is then torn between the excitement of her glamorous new life and her love for the man who insists she give it all up or lose him. All of the characters are drawn with nuance. The fiancé inspires pity and is not merely a brute: he loves Lucienne, but is a limited man who can't cope with her having a life apart from him or attracting the attentions of other men. Even the \"other man\" in the story is not the simple slimeball we first take him for, though his intentions may be just as possessive as the fiancé's.<br /><br />*************************WARNING: SPOILERS BELOW***************** <br /><br />The film has many fine set pieces, including Lucienne's triumph in the \"Miss Europe\" contest, shown through the comic reactions of assorted audience members, who wind up pelting the heroine with flowers; her misery as a housewife, peeling potatoes while the pendulum of the cuckoo clock marks time behind her; a nightmarish trip to a fun-fair (in the silent version, this occurs late in the film, after her marriage) at which Lucienne, crushed among the low-lifes and depressed by her husband's macho antics, decides that she can't go on with her present existence; and especially the final scene in the projection room where she views her talkie screen test. Louise Brooks may never have looked more beautiful than she does here, with the projector's beam flickering on her alabaster profile, her shoulders swathed in white fur, her face incandescent under the black helmet of hair as she watches herself singing on screen. The double shot of her exquisite corpse and her still-living image on the screen is particularly poignant: Louise Brooks' image, like Lucienne's, remains immortal despite her frustratingly aborted film career.\n",
      "\n",
      "\n",
      "prix de beaut was made on the cusp of the changeover from silence to sound which came a little later in europe than in hollywood originally conceived as a silent it was released with a dubbed soundtrack in france with a french actress speaking louise brooks lines but was released as a silent in italy and other parts of europe i was lucky enough to see the cineteca di bologna s flawless new restoration of an italian silent print at the tribeca film festival i haven t seen the talkie version yet but i think it s safe to assume the silent version is much more satisfying since by all reports the dubbing is poorly done louise brooks is clearly speaking english so there s no way her lips could be matched also the film is made entirely in the silent style with few titles and little need for dialogue prix de beaut tells its story visually with exciting imaginative camera work the opening is instantly kinetic with rapidly cut scenes of urban life and swimmers splashing at a public beach throughout the film there is an emphasis on visual detail on clothing machinery decoration and symbolic images such as a caged bird a heap of torn photographs a diamond bracelet this is silent film technique at its pinnacle louise brooks of course is responsible for saving the film from obscurity seeing this makes it only more heartbreaking to reflect that this was her last starring role lustrously beautiful she dominates the film with her charisma and also gives a perfectly natural yet highly charged performance her role here more than in the pabst films for which she s best known is a woman we can fully understand and sympathize with she plays lucienne garnier a typist with a possessive fianc who yearns to get more out of life and secretly enters a beauty contest with immediate success she is then torn between the excitement of her glamorous new life and her love for the man who insists she give it all up or lose him all of the characters are drawn with nuance the fianc inspires pity and is not merely a brute he loves lucienne but is a limited man who can t cope with her having a life apart from him or attracting the attentions of other men even the other man in the story is not the simple slimeball we first take him for though his intentions may be just as possessive as the fianc s warning spoilers below the film has many fine set pieces including lucienne s triumph in the miss europe contest shown through the comic reactions of assorted audience members who wind up pelting the heroine with flowers her misery as a housewife peeling potatoes while the pendulum of the cuckoo clock marks time behind her a nightmarish trip to a fun fair in the silent version this occurs late in the film after her marriage at which lucienne crushed among the low lifes and depressed by her husband s macho antics decides that she can t go on with her present existence and especially the final scene in the projection room where she views her talkie screen test louise brooks may never have looked more beautiful than she does here with the projector s beam flickering on her alabaster profile her shoulders swathed in white fur her face incandescent under the black helmet of hair as she watches herself singing on screen the double shot of her exquisite corpse and her still living image on the screen is particularly poignant louise brooks image like lucienne s remains immortal despite her frustratingly aborted film career \n",
      "\n",
      "\n",
      "\n",
      "\n",
      "This lasted several years despite the late hour it was on.<br /><br />Like a lot of 80's crime dramas, it looked cold. Both physically and figuratively. This isn't a bad thing though. And the (obviously) low budget actually worked in it's favor. Gritty during a time when 'slick' was in.<br /><br />Allan Royal's wraparound segments as the news writer gave it a slight edge.<br /><br />The only actors I remembered were Scott Nylands (Earthquake) and Tony Rosato (SCTV). The cast of barely knowns was a good thing because one could see the group as a whole and not as a bunch of people supporting a 'star.' And yes, that's a young Clark Johnson (Homicide) in a recurring spot.<br /><br />I hope a DVD release is in the future. Someone out there wanna get on that?\n",
      "\n",
      "\n",
      "this lasted several years despite the late hour it was on like a lot of 80 s crime dramas it looked cold both physically and figuratively this isn t a bad thing though and the obviously low budget actually worked in it s favor gritty during a time when slick was in allan royal s wraparound segments as the news writer gave it a slight edge the only actors i remembered were scott nylands earthquake and tony rosato sctv the cast of barely knowns was a good thing because one could see the group as a whole and not as a bunch of people supporting a star and yes that s a young clark johnson homicide in a recurring spot i hope a dvd release is in the future someone out there wanna get on that \n",
      "\n",
      "\n",
      "\n",
      "\n",
      "This is 2009 and this way underrated gem has lost nothing of the power it had 31 years ago. It connects a pretty wide variety of different characters and stories without appearing to be cluttered.<br /><br />Clothes and music might have changed over time, but in the end this is a story that will never lose its up-to-dateness. And especially this movie does the job pretty well. Of course it is cheesy at times, but very touching as well.<br /><br />Jodie Foster's performance is striking, and it shows that she is really a natural born actress who showed her true potential especially in her earlier movies.<br /><br />Don't miss this one.\n",
      "\n",
      "\n",
      "this is 2009 and this way underrated gem has lost nothing of the power it had 31 years ago it connects a pretty wide variety of different characters and stories without appearing to be cluttered clothes and music might have changed over time but in the end this is a story that will never lose its up to dateness and especially this movie does the job pretty well of course it is cheesy at times but very touching as well jodie foster s performance is striking and it shows that she is really a natural born actress who showed her true potential especially in her earlier movies don t miss this one \n",
      "\n",
      "\n",
      "\n",
      "\n",
      "John Waters has given us a genuinely enjoyable film. This certainly isn't without its shocking Waters-esque moments, but it is tamer than his older culty stuff, such as \"Pink Flamingoes\". \"Pecker\" harkens back to John's early mainstream stage in that it reminds the viewer of the same kind of humor that was evident in \"Polyester\". Overall, a really fun comedy with some great moments!\n",
      "\n",
      "\n",
      "john waters has given us a genuinely enjoyable film this certainly isn t without its shocking waters esque moments but it is tamer than his older culty stuff such as pink flamingoes  pecker harkens back to john s early mainstream stage in that it reminds the viewer of the same kind of humor that was evident in polyester overall a really fun comedy with some great moments \n",
      "\n",
      "\n",
      "\n",
      "\n",
      "I could not watch more than 10 minutes of this movie. It has set the standard. I will never again give a movie a 1, unless it was as horrible as this one. I fully agree with the other comments about this film. But, since I'm Dutch, I watched it with Dutch translation. Apparently, they didn't have money for a proper translation, so they decided to babelfish it. With sometimes hilarious results.<br /><br />Don't smoke, don't drink, don't do drugs, don't watch Demon Summer.<br /><br />I was surprised that the actors (Wow, I can't believe I just said that.) didn't hold the script (Was there any?) in their hands while shooting. I think they also did a good job on... Well... Uhmm... No, they didn't do a good job at all.\n",
      "\n",
      "\n",
      "i could not watch more than 10 minutes of this movie it has set the standard i will never again give a movie a 1 unless it was as horrible as this one i fully agree with the other comments about this film but since i m dutch i watched it with dutch translation apparently they didn t have money for a proper translation so they decided to babelfish it with sometimes hilarious results don t smoke don t drink don t do drugs don t watch demon summer i was surprised that the actors wow i can t believe i just said that didn t hold the script was there any in their hands while shooting i think they also did a good job on well uhmm no they didn t do a good job at all \n",
      "\n",
      "\n",
      "\n",
      "\n",
      "Disney have done it again. Brilliant the way Timone and Pumbaa are brought back to life yet again to tell us how they came to meet and help Simba when he needed them. I love this film and watch it over and over again. It shows how Timone lived with his family and fellow meerkats before setting off to find his dream home and adventure. Then he meets Pumbaa and things do change. Together, they search for the home Timon wants and repeatedly fail, which is funny as Timone gets more and more crazy. Then Simba turns up and we see more of his childhood than we did in the previous 2 films. The rest, you already know.\n",
      "\n",
      "\n",
      "disney have done it again brilliant the way timone and pumbaa are brought back to life yet again to tell us how they came to meet and help simba when he needed them i love this film and watch it over and over again it shows how timone lived with his family and fellow meerkats before setting off to find his dream home and adventure then he meets pumbaa and things do change together they search for the home timon wants and repeatedly fail which is funny as timone gets more and more crazy then simba turns up and we see more of his childhood than we did in the previous 2 films the rest you already know \n",
      "\n",
      "\n",
      "\n",
      "\n",
      "What a disappointment... admittedly the best of the prequels, but the story is weak, the plot is rushed and the end result is just a collection of set pieces, poorly realised and tacked together amateurishly. There are numerous continuity errors that clash glaringly with the original films, and the emergence of Darth Vader was handled so terribly that what could have been a legendary moment in modern cinema is now instead a cheesy goof that will be ridiculed for many years. I won't complain about the abysmal dialogue, as this is Star Wars... the original three films had style, cult feeling and cracking stories, and the strange dialogue added charm. The prequels were shallow attempts to make more money, and this lack of love shows in spades. Utterly disappointing.\n",
      "\n",
      "\n",
      "what a disappointment admittedly the best of the prequels but the story is weak the plot is rushed and the end result is just a collection of set pieces poorly realised and tacked together amateurishly there are numerous continuity errors that clash glaringly with the original films and the emergence of darth vader was handled so terribly that what could have been a legendary moment in modern cinema is now instead a cheesy goof that will be ridiculed for many years i won t complain about the abysmal dialogue as this is star wars the original three films had style cult feeling and cracking stories and the strange dialogue added charm the prequels were shallow attempts to make more money and this lack of love shows in spades utterly disappointing \n",
      "\n",
      "\n",
      "\n",
      "\n",
      "Any movie in which Brooke Shields out-acts a Fonda is going to be both an anomaly and a horror. Shields actually is only bad because she's youthful, inexperienced, and clearly not well directed by her co-star. Peter Fonda is bad because, well, because he's bad. I liked him in Ulee's Gold, years later, but Lord above, he's awful here. Not that anyone else is good. There's not a single performance (outside Henry Fonda's delightful cameo) that is even passable. I've never seen a movie with this many bad performances. In the case of Luke Askew, the chief villain, it's clear this is because of poor dialogue and direction, as he's done good work in the past. But his partner, played by Ted Markland, is an embarrassing ham. The writing is just bloody awful, and the actors cannot be faulted for the terrible things they have to say. But they say them so badly! The editing and direction are worse than pedestrian. Shots are held way too long for no dramatic reason, or cut off before the impact of the scene can be realized. This picture was far worse than I'd imagined and would have been utterly forgotten (and probably never even made) without the participation of a couple of famous names. One bright spot: the cinematography in the Grand Canyon is exquisite, capturing the beauty of that area in a way even big-screen Imax productions have not quite done so well. And finally: either this is a bad version of Paper Moon, with a lovable pair of father-daughter types, or it's a bad version of Pretty Baby, with a considerably more icky romantic relationship between a forty-something and a 13-year-old. It suggests more of the latter than the former, and thus is pretty disturbing.\n",
      "\n",
      "\n",
      "any movie in which brooke shields out acts a fonda is going to be both an anomaly and a horror shields actually is only bad because she s youthful inexperienced and clearly not well directed by her co star peter fonda is bad because well because he s bad i liked him in ulee s gold years later but lord above he s awful here not that anyone else is good there s not a single performance outside henry fonda s delightful cameo that is even passable i ve never seen a movie with this many bad performances in the case of luke askew the chief villain it s clear this is because of poor dialogue and direction as he s done good work in the past but his partner played by ted markland is an embarrassing ham the writing is just bloody awful and the actors cannot be faulted for the terrible things they have to say but they say them so badly the editing and direction are worse than pedestrian shots are held way too long for no dramatic reason or cut off before the impact of the scene can be realized this picture was far worse than i d imagined and would have been utterly forgotten and probably never even made without the participation of a couple of famous names one bright spot the cinematography in the grand canyon is exquisite capturing the beauty of that area in a way even big screen imax productions have not quite done so well and finally either this is a bad version of paper moon with a lovable pair of father daughter types or it s a bad version of pretty baby with a considerably more icky romantic relationship between a forty something and a 13 year old it suggests more of the latter than the former and thus is pretty disturbing \n",
      "\n",
      "\n",
      "\n",
      "\n",
      "This movie is a should-be classic. It's not perfect, certainly. The pacing, while perfect for the stage, is in movie form slow as a tortoise with arthritic knees. Jean Seberg is misdirected to be too sweet and too gentle. She fully shows enough acting talent, skill, and craft to convincingly play the clever, passionate, and confident Joan, but, unfortunately, the director missed the point of the character. George Bernard Shaw is my favorite playwright. In no other play has his dialog been more sharp, nor the lines more musical. However, processing this film requires that you look at it as a lawyer. This movie is a case, and the viewer is the judge. That is how this picture is to be enjoyed. 7/10.\n",
      "\n",
      "\n",
      "this movie is a should be classic it s not perfect certainly the pacing while perfect for the stage is in movie form slow as a tortoise with arthritic knees jean seberg is misdirected to be too sweet and too gentle she fully shows enough acting talent skill and craft to convincingly play the clever passionate and confident joan but unfortunately the director missed the point of the character george bernard shaw is my favorite playwright in no other play has his dialog been more sharp nor the lines more musical however processing this film requires that you look at it as a lawyer this movie is a case and the viewer is the judge that is how this picture is to be enjoyed 7 10 \n",
      "\n",
      "\n",
      "\n",
      "\n"
     ]
    }
   ],
   "source": [
    "for i in df.review[:10]:\n",
    "    print i\n",
    "    print \"\\n\"\n",
    "    print preprocess_text(i)\n",
    "    print \"\\n\\n\\n\""
   ]
  },
  {
   "cell_type": "markdown",
   "metadata": {},
   "source": [
    "#### finding out the distribution of the words in reviews"
   ]
  },
  {
   "cell_type": "code",
   "execution_count": 6,
   "metadata": {},
   "outputs": [
    {
     "name": "stdout",
     "output_type": "stream",
     "text": [
      "50000\n"
     ]
    },
    {
     "data": {
      "image/png": "[encoded data removed]",
      "text/plain": [
       "<matplotlib.figure.Figure at 0x7fcf69b0a5d0>"
      ]
     },
     "metadata": {},
     "output_type": "display_data"
    }
   ],
   "source": [
    "lenList = []\n",
    "for d in df.review:\n",
    "    counter = len(d.split())\n",
    "    lenList.append(counter)\n",
    "print len(lenList)\n",
    "\n",
    "#print lenList[:10]\n",
    "plt.figure(figsize=(20,10))\n",
    "plt.hist(lenList, 100)\n",
    "plt.xlabel('Sequence Length')\n",
    "plt.ylabel('Frequency')\n",
    "plt.axis([0, 1200, 0, 8000])\n",
    "plt.show()"
   ]
  },
  {
   "cell_type": "code",
   "execution_count": 7,
   "metadata": {},
   "outputs": [
    {
     "name": "stdout",
     "output_type": "stream",
     "text": [
      "5000\n"
     ]
    }
   ],
   "source": [
    "count = CountVectorizer(max_features=5000)\n",
    "docs = np.array(df.review)\n",
    "bag = count.fit_transform(docs)\n",
    "\n",
    "word2index_map = count.vocabulary_\n",
    "print len(word2index_map.keys())\n",
    "\n",
    "index2word_map = {index: word for word, index in word2index_map.iteritems()}"
   ]
  },
  {
   "cell_type": "code",
   "execution_count": 8,
   "metadata": {},
   "outputs": [],
   "source": [
    "data = [[word2index_map[word] for word in review.lower().split() if word in word2index_map]\n",
    "        for review in df.review]"
   ]
  },
  {
   "cell_type": "code",
   "execution_count": 9,
   "metadata": {},
   "outputs": [
    {
     "name": "stdout",
     "output_type": "stream",
     "text": [
      "50000\n"
     ]
    },
    {
     "data": {
      "image/png": "[encoded data removed]",
      "text/plain": [
       "<matplotlib.figure.Figure at 0x7fcf677aa450>"
      ]
     },
     "metadata": {},
     "output_type": "display_data"
    }
   ],
   "source": [
    "lenList = []\n",
    "for d in data:\n",
    "    counter = len(d)\n",
    "    lenList.append(counter)\n",
    "print len(lenList)\n",
    "\n",
    "#print lenList[:10]\n",
    "plt.figure(figsize=(20,10))\n",
    "plt.hist(lenList, 100)\n",
    "plt.xlabel('Sequence Length')\n",
    "plt.ylabel('Frequency')\n",
    "plt.axis([0, 1200, 0, 8000])\n",
    "plt.show()"
   ]
  },
  {
   "cell_type": "code",
   "execution_count": 10,
   "metadata": {},
   "outputs": [],
   "source": [
    "labels = df.sentiment\n",
    "labels_one_hot = []\n",
    "for i in range(len(labels)):\n",
    "    label = int(labels[i])\n",
    "    one_hot = [0.0]*2\n",
    "    one_hot[label] = 1.0\n",
    "    labels_one_hot.append(one_hot)"
   ]
  },
  {
   "cell_type": "code",
   "execution_count": 11,
   "metadata": {},
   "outputs": [],
   "source": [
    "def generate_batch(batch_size, data_x, data_y):\n",
    "    instance_indices = list(range(len(data_x)))\n",
    "    np.random.shuffle(instance_indices)\n",
    "    batch = instance_indices[:batch_size]\n",
    "    x = [data_x[i] for i in batch]\n",
    "    y = [data_y[i] for i in batch]\n",
    "    return x, y"
   ]
  },
  {
   "cell_type": "code",
   "execution_count": 12,
   "metadata": {},
   "outputs": [],
   "source": [
    "def variable_summaries(var):\n",
    "    with tf.name_scope(\"summaries\"):\n",
    "        mean = tf.reduce_mean(var)\n",
    "        tf.summary.scalar('mean', mean)\n",
    "        with tf.name_scope(\"stddev\"):\n",
    "            stddev= tf.sqrt(tf.reduce_mean(tf.square(var - mean)))\n",
    "        tf.summary.scalar(\"stddev\", stddev)"
   ]
  },
  {
   "cell_type": "markdown",
   "metadata": {},
   "source": [
    "#### adding padding token to dictionaries"
   ]
  },
  {
   "cell_type": "code",
   "execution_count": 15,
   "metadata": {},
   "outputs": [
    {
     "data": {
      "text/plain": [
       "(5001, 'PAD')"
      ]
     },
     "execution_count": 15,
     "metadata": {},
     "output_type": "execute_result"
    }
   ],
   "source": [
    "len(word2index_map), index2word_map[5000]"
   ]
  },
  {
   "cell_type": "code",
   "execution_count": 14,
   "metadata": {},
   "outputs": [],
   "source": [
    "word2index_map[\"PAD\"] = len(word2index_map)\n",
    "index2word_map[len(word2index_map) - 1] = \"PAD\""
   ]
  },
  {
   "cell_type": "markdown",
   "metadata": {},
   "source": [
    "### starting the tensorflow code"
   ]
  },
  {
   "cell_type": "markdown",
   "metadata": {},
   "source": [
    "#### defining constant parameters in the model "
   ]
  },
  {
   "cell_type": "code",
   "execution_count": 16,
   "metadata": {},
   "outputs": [],
   "source": [
    "num_lstm_layers = 2\n",
    "num_classes = 2\n",
    "batch_size = 64\n",
    "embedding_dimension = 300\n",
    "hidden_layer_size = 128\n",
    "time_steps = 300\n",
    "vocabulary_size = len(word2index_map)\n",
    "\n",
    "LOG_DIR = \"/home/kuldeep.singh/books/deep learning /tensorflow_tutorials/logs/imdb_tensorflow\""
   ]
  },
  {
   "cell_type": "markdown",
   "metadata": {},
   "source": [
    "#### padding the sequences"
   ]
  },
  {
   "cell_type": "code",
   "execution_count": 17,
   "metadata": {},
   "outputs": [],
   "source": [
    "for i in range(len(data)):\n",
    "    if len(data[i]) < 300:\n",
    "        data[i].extend([len(word2index_map) - 1]*(300 - len(data[i])))\n",
    "    else:\n",
    "        data[i] = data[i][:300]"
   ]
  },
  {
   "cell_type": "code",
   "execution_count": 18,
   "metadata": {},
   "outputs": [],
   "source": [
    "train_x = data[:20000]\n",
    "train_y = labels_one_hot[:20000]\n",
    "\n",
    "test_x = data[20000:30000]\n",
    "test_y = labels_one_hot[20000:30000]\n",
    "\n",
    "validation_x = data[30000:40000]\n",
    "validation_y = labels_one_hot[30000:40000]"
   ]
  },
  {
   "cell_type": "code",
   "execution_count": 19,
   "metadata": {},
   "outputs": [],
   "source": [
    "# generate_batch(2, train_x, train_y)"
   ]
  },
  {
   "cell_type": "code",
   "execution_count": 20,
   "metadata": {},
   "outputs": [],
   "source": [
    "_inputs = tf.placeholder(tf.int32, shape=[None, time_steps])\n",
    "_labels = tf.placeholder(tf.float32, shape=[None, num_classes])"
   ]
  },
  {
   "cell_type": "code",
   "execution_count": 21,
   "metadata": {},
   "outputs": [],
   "source": [
    "with tf.name_scope(\"word_embeddings\"):\n",
    "    embeddings = tf.Variable(\n",
    "        tf.random_uniform([vocabulary_size, embedding_dimension], -1.0, 1.0, name=\"embedding\")\n",
    "    )\n",
    "    \n",
    "    embed = tf.nn.embedding_lookup(embeddings, _inputs)"
   ]
  },
  {
   "cell_type": "code",
   "execution_count": 26,
   "metadata": {},
   "outputs": [],
   "source": [
    "def lstm_cell(hidden_layer_size):\n",
    "    single_lstm_cell = tf.contrib.rnn.BasicLSTMCell(hidden_layer_size, forget_bias=1.0)\n",
    "    single_lstm_cell = tf.contrib.rnn.DropoutWrapper(single_lstm_cell,  output_keep_prob=_keep_prob)\n",
    "    return single_lstm_cell"
   ]
  },
  {
   "cell_type": "code",
   "execution_count": 27,
   "metadata": {},
   "outputs": [],
   "source": [
    "with tf.variable_scope(\"lstm\"):\n",
    "#     lstm_cell = tf.contrib.rnn.BasicLSTMCell(hidden_layer_size, forget_bias=1.0)\n",
    "    cell = tf.contrib.rnn.MultiRNNCell(cells=[lstm_cell(hidden_layer_size) for _ in range(num_lstm_layers)],\n",
    "                                       state_is_tuple=True)\n",
    "    outputs, states = tf.nn.dynamic_rnn(cell, embed, dtype=tf.float32)\n",
    "#     outputs, states = tf.nn.dynamic_rnn(lstm_cell, embed, dtype=tf.float32)\n",
    "\n",
    "weights = {\n",
    "    \"linear_layer\": tf.Variable(tf.truncated_normal([hidden_layer_size, num_classes], mean=0, stddev=0.01))\n",
    "}\n",
    "\n",
    "biases = {\n",
    "    \"linear_layer\": tf.Variable(tf.truncated_normal([num_classes], mean=0, stddev=0.01))\n",
    "}"
   ]
  },
  {
   "cell_type": "code",
   "execution_count": 28,
   "metadata": {},
   "outputs": [],
   "source": [
    "final_output = tf.matmul(states[num_lstm_layers-1][1], weights[\"linear_layer\"]) + biases[\"linear_layer\"]\n",
    "\n",
    "with tf.name_scope(\"cross_entropy\"):\n",
    "    cross_entropy = tf.reduce_mean(tf.nn.softmax_cross_entropy_with_logits(logits=final_output, labels=_labels))\n",
    "    tf.summary.scalar(\"cross_entropy\", cross_entropy)\n",
    "\n",
    "# cross_entropy = tf.reduce_mean(tf.nn.softmax_cross_entropy_with_logits(logits=final_output, labels=_labels))\n",
    "\n",
    "with tf.name_scope(\"train_step\"):\n",
    "    train_step = tf.train.RMSPropOptimizer(0.001, 0.9).minimize(cross_entropy)\n",
    "\n",
    "with tf.name_scope(\"accuracy\"):\n",
    "    correct_predictions = tf.equal(tf.argmax(final_output, 1), tf.argmax(_labels, 1))\n",
    "    accuracy = (tf.reduce_mean(tf.cast(correct_predictions, tf.float32)))*100\n",
    "    tf.summary.scalar(\"accuracy\", accuracy)\n",
    "    \n",
    "merged = tf.summary.merge_all()"
   ]
  },
  {
   "cell_type": "code",
   "execution_count": 29,
   "metadata": {
    "scrolled": true
   },
   "outputs": [
    {
     "name": "stdout",
     "output_type": "stream",
     "text": [
      "Iteration: 0, Minibatch loss: 0.693124, Training Accuracy: 50.00000\n",
      "Iteration: 100, Minibatch loss: 0.693626, Training Accuracy: 50.00000\n",
      "Iteration: 200, Minibatch loss: 0.692810, Training Accuracy: 54.68750\n",
      "Iteration: 300, Minibatch loss: 0.690276, Training Accuracy: 56.25000\n",
      "Iteration: 400, Minibatch loss: 0.672306, Training Accuracy: 57.81250\n",
      "Iteration: 500, Minibatch loss: 0.679828, Training Accuracy: 51.56250\n",
      "Iteration: 600, Minibatch loss: 0.689178, Training Accuracy: 53.12500\n",
      "Iteration: 700, Minibatch loss: 0.667148, Training Accuracy: 53.12500\n",
      "Iteration: 800, Minibatch loss: 0.695586, Training Accuracy: 39.06250\n",
      "Iteration: 900, Minibatch loss: 0.660078, Training Accuracy: 54.68750\n",
      "Iteration: 1000, Minibatch loss: 0.628432, Training Accuracy: 64.06250\n",
      "Iteration: 1100, Minibatch loss: 0.513566, Training Accuracy: 82.81250\n",
      "Iteration: 1200, Minibatch loss: 0.450518, Training Accuracy: 87.50000\n",
      "Iteration: 1300, Minibatch loss: 0.365325, Training Accuracy: 87.50000\n",
      "Iteration: 1400, Minibatch loss: 0.399071, Training Accuracy: 84.37500\n",
      "Iteration: 1500, Minibatch loss: 0.631258, Training Accuracy: 73.43750\n",
      "Iteration: 1600, Minibatch loss: 0.274908, Training Accuracy: 90.62500\n",
      "Iteration: 1700, Minibatch loss: 0.189653, Training Accuracy: 93.75000\n",
      "Iteration: 1800, Minibatch loss: 0.145167, Training Accuracy: 96.87500\n",
      "Iteration: 1900, Minibatch loss: 0.259050, Training Accuracy: 93.75000\n",
      "Iteration: 2000, Minibatch loss: 0.137957, Training Accuracy: 96.87500\n",
      "Iteration: 2100, Minibatch loss: 0.111227, Training Accuracy: 98.43750\n",
      "Iteration: 2200, Minibatch loss: 0.350609, Training Accuracy: 82.81250\n",
      "Iteration: 2300, Minibatch loss: 0.264841, Training Accuracy: 87.50000\n",
      "Iteration: 2400, Minibatch loss: 0.106359, Training Accuracy: 96.87500\n",
      "Iteration: 2500, Minibatch loss: 0.044310, Training Accuracy: 100.00000\n",
      "Iteration: 2600, Minibatch loss: 0.084363, Training Accuracy: 98.43750\n",
      "Iteration: 2700, Minibatch loss: 0.041067, Training Accuracy: 98.43750\n",
      "Iteration: 2800, Minibatch loss: 0.086280, Training Accuracy: 98.43750\n",
      "Iteration: 2900, Minibatch loss: 0.114652, Training Accuracy: 96.87500\n",
      "Iteration: 3000, Minibatch loss: 0.153362, Training Accuracy: 95.31250\n",
      "Iteration: 3100, Minibatch loss: 0.094797, Training Accuracy: 98.43750\n",
      "Iteration: 3200, Minibatch loss: 0.040726, Training Accuracy: 100.00000\n",
      "Iteration: 3300, Minibatch loss: 0.068289, Training Accuracy: 98.43750\n",
      "Iteration: 3400, Minibatch loss: 0.109666, Training Accuracy: 96.87500\n",
      "Iteration: 3500, Minibatch loss: 0.126964, Training Accuracy: 96.87500\n",
      "Iteration: 3600, Minibatch loss: 0.027999, Training Accuracy: 100.00000\n",
      "Iteration: 3700, Minibatch loss: 0.124749, Training Accuracy: 96.87500\n",
      "Iteration: 3800, Minibatch loss: 0.008403, Training Accuracy: 100.00000\n",
      "Iteration: 3900, Minibatch loss: 0.009312, Training Accuracy: 100.00000\n",
      "Iteration: 4000, Minibatch loss: 0.050113, Training Accuracy: 98.43750\n",
      "Iteration: 4100, Minibatch loss: 0.139510, Training Accuracy: 96.87500\n",
      "Iteration: 4200, Minibatch loss: 0.145619, Training Accuracy: 96.87500\n",
      "Iteration: 4300, Minibatch loss: 0.003716, Training Accuracy: 100.00000\n",
      "Iteration: 4400, Minibatch loss: 0.007846, Training Accuracy: 100.00000\n",
      "Iteration: 4500, Minibatch loss: 0.022151, Training Accuracy: 100.00000\n",
      "Iteration: 4600, Minibatch loss: 0.004003, Training Accuracy: 100.00000\n",
      "Iteration: 4700, Minibatch loss: 0.005198, Training Accuracy: 100.00000\n",
      "Iteration: 4800, Minibatch loss: 0.056471, Training Accuracy: 98.43750\n",
      "Iteration: 4900, Minibatch loss: 0.005307, Training Accuracy: 100.00000\n",
      "Iteration: 5000, Minibatch loss: 0.008222, Training Accuracy: 100.00000\n",
      "Iteration: 5100, Minibatch loss: 0.003257, Training Accuracy: 100.00000\n",
      "Iteration: 5200, Minibatch loss: 0.004806, Training Accuracy: 100.00000\n",
      "Iteration: 5300, Minibatch loss: 0.066799, Training Accuracy: 98.43750\n",
      "Iteration: 5400, Minibatch loss: 0.003389, Training Accuracy: 100.00000\n",
      "Iteration: 5500, Minibatch loss: 0.002508, Training Accuracy: 100.00000\n",
      "Iteration: 5600, Minibatch loss: 0.005089, Training Accuracy: 100.00000\n",
      "Iteration: 5700, Minibatch loss: 0.005588, Training Accuracy: 100.00000\n",
      "Iteration: 5800, Minibatch loss: 0.002532, Training Accuracy: 100.00000\n",
      "Iteration: 5900, Minibatch loss: 0.004856, Training Accuracy: 100.00000\n",
      "Iteration: 6000, Minibatch loss: 0.017753, Training Accuracy: 100.00000\n",
      "Iteration: 6100, Minibatch loss: 0.002422, Training Accuracy: 100.00000\n",
      "Iteration: 6200, Minibatch loss: 0.003943, Training Accuracy: 100.00000\n",
      "Iteration: 6300, Minibatch loss: 0.001451, Training Accuracy: 100.00000\n",
      "Iteration: 6400, Minibatch loss: 0.003976, Training Accuracy: 100.00000\n",
      "Iteration: 6500, Minibatch loss: 0.001265, Training Accuracy: 100.00000\n",
      "Iteration: 6600, Minibatch loss: 0.002344, Training Accuracy: 100.00000\n",
      "Iteration: 6700, Minibatch loss: 0.001709, Training Accuracy: 100.00000\n",
      "Iteration: 6800, Minibatch loss: 0.000653, Training Accuracy: 100.00000\n",
      "Iteration: 6900, Minibatch loss: 0.000673, Training Accuracy: 100.00000\n",
      "Iteration: 7000, Minibatch loss: 0.001575, Training Accuracy: 100.00000\n",
      "Iteration: 7100, Minibatch loss: 0.000634, Training Accuracy: 100.00000\n",
      "Iteration: 7200, Minibatch loss: 0.000829, Training Accuracy: 100.00000\n",
      "Iteration: 7300, Minibatch loss: 0.000761, Training Accuracy: 100.00000\n",
      "Iteration: 7400, Minibatch loss: 0.000911, Training Accuracy: 100.00000\n",
      "Iteration: 7500, Minibatch loss: 0.000432, Training Accuracy: 100.00000\n",
      "Iteration: 7600, Minibatch loss: 0.001098, Training Accuracy: 100.00000\n",
      "Iteration: 7700, Minibatch loss: 0.001878, Training Accuracy: 100.00000\n",
      "Iteration: 7800, Minibatch loss: 0.000481, Training Accuracy: 100.00000\n",
      "Iteration: 7900, Minibatch loss: 0.001211, Training Accuracy: 100.00000\n",
      "Iteration: 8000, Minibatch loss: 0.111950, Training Accuracy: 96.87500\n",
      "Iteration: 8100, Minibatch loss: 0.001691, Training Accuracy: 100.00000\n",
      "Iteration: 8200, Minibatch loss: 0.000624, Training Accuracy: 100.00000\n",
      "Iteration: 8300, Minibatch loss: 0.093065, Training Accuracy: 98.43750\n",
      "Iteration: 8400, Minibatch loss: 0.002170, Training Accuracy: 100.00000\n",
      "Iteration: 8500, Minibatch loss: 0.000202, Training Accuracy: 100.00000\n",
      "Iteration: 8600, Minibatch loss: 0.029395, Training Accuracy: 98.43750\n",
      "Iteration: 8700, Minibatch loss: 0.000256, Training Accuracy: 100.00000\n",
      "Iteration: 8800, Minibatch loss: 0.000230, Training Accuracy: 100.00000\n",
      "Iteration: 8900, Minibatch loss: 0.000848, Training Accuracy: 100.00000\n",
      "Iteration: 9000, Minibatch loss: 0.000418, Training Accuracy: 100.00000\n",
      "Iteration: 9100, Minibatch loss: 0.000483, Training Accuracy: 100.00000\n",
      "Iteration: 9200, Minibatch loss: 0.000771, Training Accuracy: 100.00000\n",
      "Iteration: 9300, Minibatch loss: 0.000200, Training Accuracy: 100.00000\n",
      "Iteration: 9400, Minibatch loss: 0.000241, Training Accuracy: 100.00000\n",
      "Iteration: 9500, Minibatch loss: 0.000233, Training Accuracy: 100.00000\n",
      "Iteration: 9600, Minibatch loss: 0.000644, Training Accuracy: 100.00000\n",
      "Iteration: 9700, Minibatch loss: 0.000820, Training Accuracy: 100.00000\n",
      "Iteration: 9800, Minibatch loss: 0.000025, Training Accuracy: 100.00000\n",
      "Iteration: 9900, Minibatch loss: 0.000125, Training Accuracy: 100.00000\n",
      "Test batch accuracy 0: 84.37500\n",
      "Test batch accuracy 1: 82.81250\n",
      "Test batch accuracy 2: 73.43750\n",
      "Test batch accuracy 3: 81.25000\n",
      "Test batch accuracy 4: 81.25000\n"
     ]
    }
   ],
   "source": [
    "with tf.Session() as sess:\n",
    "    \n",
    "    train_writer = tf.summary.FileWriter(LOG_DIR + \"/train\", graph=tf.get_default_graph())\n",
    "    validation_writer = tf.summary.FileWriter(LOG_DIR + \"/test\", graph=tf.get_default_graph())\n",
    "    \n",
    "    sess.run(tf.global_variables_initializer())\n",
    "    \n",
    "    for i in range(10000):\n",
    "        x_batch, y_batch = generate_batch(batch_size, train_x, train_y)\n",
    "        \n",
    "        summary, _ = sess.run([merged, train_step], feed_dict={_inputs: x_batch, _labels: y_batch})\n",
    "        train_writer.add_summary(summary, i)\n",
    "        \n",
    "        if i%100 == 0:\n",
    "            acc, train_loss =  sess.run([accuracy, cross_entropy], feed_dict=\n",
    "                                        {_inputs: x_batch, _labels: y_batch})\n",
    "            \n",
    "            print \"Iteration: \" + str(i) +\", Minibatch loss: {:.6f}\".format(train_loss)\\\n",
    "            + \", Training Accuracy: {:.5f}\".format(acc)\n",
    "        \n",
    "        if i%10:\n",
    "            x_val, y_val = generate_batch(batch_size, validation_x, validation_y)\n",
    "            summary, validation_acc = sess.run([merged, accuracy], \n",
    "                                            feed_dict={\n",
    "                                                _inputs:x_val, _labels:y_val\n",
    "                                            })\n",
    "            validation_writer.add_summary(summary, i)\n",
    "#             if i%100 == 0:\n",
    "#                 print(\"validation batch accuracy: %.5f\" % (validation_acc))\n",
    "        \n",
    "    for test_batch in range(5):\n",
    "        x_test, y_test = generate_batch(batch_size, test_x,test_y)\n",
    "        batch_acc, _ = sess.run([accuracy, train_step], feed_dict={\n",
    "            _inputs:x_test, _labels:y_test\n",
    "        })\n",
    "        print(\"Test batch accuracy %d: %.5f\" % (test_batch, batch_acc))\n",
    "    \n",
    "#     x_test, y_test = generate_batch(batch_size, test_x,test_y)\n",
    "#     output_example = sess.run([outputs],feed_dict={_inputs:x_test,\n",
    "#                                                    _labels:y_test})\n",
    "\n",
    "#     states_example = sess.run([states[1]],feed_dict={_inputs:x_test, \n",
    "#                                                      _labels:y_test})\n"
   ]
  },
  {
   "cell_type": "code",
   "execution_count": null,
   "metadata": {},
   "outputs": [],
   "source": [
    "# from __future__ import print_function\n",
    "\n",
    "# from keras.preprocessing import sequence\n",
    "# from keras.models import Sequential\n",
    "# from keras.layers import Dense, Embedding\n",
    "# from keras.layers import LSTM\n",
    "# from keras.datasets import imdb\n",
    "\n",
    "# import numpy as np\n",
    "# np.random.seed(42)\n",
    "# import pandas as pd\n",
    "# from sklearn.model_selection import train_test_split\n",
    "# from sklearn.metrics import roc_auc_score\n",
    "# from keras.models import Model\n",
    "# from keras.layers import Input, Dense, Embedding, SpatialDropout1D, concatenate\n",
    "# from keras.layers import GRU, Bidirectional, GlobalAveragePooling1D, GlobalMaxPooling1D, LSTM, Conv1D, Flatten, multiply, Dropout\n",
    "# from keras.preprocessing import text, sequence\n",
    "# from keras.callbacks import Callback, EarlyStopping\n",
    "# from keras import regularizers\n",
    "# from keras.optimizers import Adam\n",
    "# import warnings\n",
    "# warnings.filterwarnings('ignore')\n",
    "\n",
    "# max_features = 50000\n",
    "# maxlen = 200  # cut texts after this number of words (among top max_features most common words)\n",
    "# batch_size = 128\n",
    "# embed_size=300\n",
    "\n",
    "# print('Loading data...')\n",
    "# (x_train, y_train), (x_test, y_test) = imdb.load_data(num_words=max_features)\n",
    "# print(len(x_train), 'train sequences')\n",
    "# print(len(x_test), 'test sequences')\n",
    "\n",
    "# print('Pad sequences (samples x time)')\n",
    "# x_train = sequence.pad_sequences(x_train, maxlen=maxlen)\n",
    "# x_test = sequence.pad_sequences(x_test, maxlen=maxlen)\n",
    "# print('x_train shape:', x_train.shape)\n",
    "# print('x_test shape:', x_test.shape)\n",
    "\n",
    "# # print('Build model...')\n",
    "# # model = Sequential()\n",
    "# # model.add(Embedding(max_features, 128))\n",
    "# # model.add(GRU(128, dropout=0.2, recurrent_dropout=0.2))\n",
    "# # model.add(Dense(1, activation='sigmoid'))\n",
    "# def get_model():\n",
    "#     input_ = Input(shape=(maxlen, ))\n",
    "#     inp = Embedding(max_features, embed_size)(input_)\n",
    "#     inp = SpatialDropout1D(0.2)(inp)\n",
    "#     x = inp\n",
    "#     x = Bidirectional(GRU(128, return_sequences=True))(x)\n",
    "# #     x = Conv1D(filters=64,kernel_size=2, strides=1,padding='same')(x)\n",
    "# #     x = SpatialDropout1D(0.2)(x)\n",
    "#     avg_pool = GlobalAveragePooling1D()(x)\n",
    "#     max_pool = GlobalMaxPooling1D()(x)\n",
    "#     conc1 = concatenate([avg_pool, max_pool])\n",
    "#     outp = Dense(1, activation=\"sigmoid\")(conc1)\n",
    "# #     outp = Dense(6, activation=\"sigmoid\")(conc1)\n",
    "# #     outp = Dropout(0.2)(outp)\n",
    "#     model = Model(inputs=input_, outputs=outp)\n",
    "#     model.compile(loss='binary_crossentropy',\n",
    "#                   optimizer=Adam(lr = 0.01),\n",
    "#                   metrics=['accuracy'])\n",
    "# #     model.compile(loss='categorical_crossentropy',\n",
    "# #                   optimizer='adam',\n",
    "# #                   metrics=['accuracy'])\n",
    "\n",
    "#     return model\n",
    "\n",
    "# model = get_model()\n",
    "\n",
    "\n",
    "\n",
    "# # try using different optimizers and different optimizer configs\n",
    "# # model.compile(loss='binary_crossentropy',\n",
    "# #               optimizer='adam',\n",
    "# #               metrics=['accuracy'])\n",
    "\n",
    "# print('Train...')\n",
    "# model.fit(x_train, y_train,\n",
    "#           batch_size=batch_size,\n",
    "#           epochs=2,\n",
    "#           validation_data=(x_test, y_test))\n",
    "# score, acc = model.evaluate(x_test, y_test,\n",
    "#                             batch_size=batch_size)\n",
    "# print('Test score:', score)  \n",
    "# print('Test accuracy:', acc)\n"
   ]
  },
  {
   "cell_type": "code",
   "execution_count": null,
   "metadata": {},
   "outputs": [],
   "source": []
  }
 ],
 "metadata": {
  "kernelspec": {
   "display_name": "Python 2",
   "language": "python",
   "name": "python2"
  },
  "language_info": {
   "codemirror_mode": {
    "name": "ipython",
    "version": 2
   },
   "file_extension": ".py",
   "mimetype": "text/x-python",
   "name": "python",
   "nbconvert_exporter": "python",
   "pygments_lexer": "ipython2",
   "version": "2.7.6"
  }
 },
 "nbformat": 4,
 "nbformat_minor": 2
}
