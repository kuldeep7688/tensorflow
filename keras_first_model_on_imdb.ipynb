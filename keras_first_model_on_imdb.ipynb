{
 "cells": [
  {
   "cell_type": "markdown",
   "metadata": {},
   "source": [
    "# first keras model on imdb without pre-trained word embeddings"
   ]
  },
  {
   "cell_type": "code",
   "execution_count": 1,
   "metadata": {},
   "outputs": [
    {
     "name": "stderr",
     "output_type": "stream",
     "text": [
      "/home/kuldeep.singh/.local/lib/python2.7/site-packages/h5py/__init__.py:36: FutureWarning: Conversion of the second argument of issubdtype from `float` to `np.floating` is deprecated. In future, it will be treated as `np.float64 == np.dtype(float).type`.\n",
      "  from ._conv import register_converters as _register_converters\n",
      "Using TensorFlow backend.\n"
     ]
    }
   ],
   "source": [
    "import tensorflow as tf\n",
    "import numpy as np\n",
    "from sklearn.model_selection import train_test_split\n",
    "\n",
    "# from keras.models import Sequential\n",
    "from keras.datasets import imdb\n",
    "from keras.models import Model\n",
    "from keras.preprocessing import sequence\n",
    "from keras.layers import Input, Dense, Embedding, LSTM, Dropout, Conv1D, Flatten, MaxPooling1D\n",
    "from keras.callbacks import Callback, EarlyStopping, TensorBoard\n",
    "from keras import regularizers\n",
    "\n",
    "import matplotlib.pyplot as plt\n",
    "%matplotlib inline\n",
    "\n",
    "# import warnings\n",
    "# warnings.filterwarnings('ignore')"
   ]
  },
  {
   "cell_type": "code",
   "execution_count": 2,
   "metadata": {},
   "outputs": [],
   "source": [
    "# defining max features\n",
    "max_features = 20000"
   ]
  },
  {
   "cell_type": "code",
   "execution_count": 3,
   "metadata": {},
   "outputs": [
    {
     "name": "stdout",
     "output_type": "stream",
     "text": [
      "Loading data...\n",
      "(25000, 'train sequences')\n",
      "(25000, 'test sequences')\n"
     ]
    }
   ],
   "source": [
    "print('Loading data...')\n",
    "(x_train, y_train), (x_test, y_test) = imdb.load_data(num_words=max_features)\n",
    "print(len(x_train), 'train sequences')\n",
    "print(len(x_test), 'test sequences')"
   ]
  },
  {
   "cell_type": "code",
   "execution_count": 5,
   "metadata": {},
   "outputs": [
    {
     "name": "stdout",
     "output_type": "stream",
     "text": [
      "25000\n"
     ]
    },
    {
     "data": {
      "image/png": "[encoded data removed]",
      "text/plain": [
       "<matplotlib.figure.Figure at 0x7f2ed581aa10>"
      ]
     },
     "metadata": {},
     "output_type": "display_data"
    }
   ],
   "source": [
    "lenList = []\n",
    "for d in x_train:\n",
    "    counter = len(d)\n",
    "    lenList.append(counter)\n",
    "print len(lenList)\n",
    "\n",
    "#print lenList[:10]\n",
    "plt.figure(figsize=(20,10))\n",
    "plt.hist(lenList, 100)\n",
    "plt.xlabel('Sequence Length')\n",
    "plt.ylabel('Frequency')\n",
    "plt.axis([0, 1200, 0, 8000])\n",
    "plt.show()"
   ]
  },
  {
   "cell_type": "code",
   "execution_count": 6,
   "metadata": {},
   "outputs": [],
   "source": [
    "# defininf model variables \n",
    "max_len = 300 # according to the above graph 300 seems good\n",
    "batch_size = 64\n",
    "embed_size = 300"
   ]
  },
  {
   "cell_type": "code",
   "execution_count": 7,
   "metadata": {},
   "outputs": [],
   "source": [
    "# padding and limiting sequences to 300 only \n",
    "x_train = sequence.pad_sequences(x_train, maxlen=max_len)\n",
    "x_test = sequence.pad_sequences(x_test, maxlen=max_len)\n"
   ]
  },
  {
   "cell_type": "code",
   "execution_count": 27,
   "metadata": {},
   "outputs": [],
   "source": [
    "# defining model function \n",
    "def setup_model():\n",
    "    _input = Input(shape=(300, ))\n",
    "    x = Embedding(max_features, embed_size)(_input)\n",
    "    \n",
    "    x = Conv1D(32, 8, activation='relu', padding=\"same\")(x)\n",
    "    x = MaxPooling1D(4, strides=4, padding=\"same\")(x)\n",
    "    x = Dropout(rate=0.5)(x)\n",
    "#     x = Conv1D(32, 8, activation='relu', padding=\"same\")(x)\n",
    "#     x = MaxPooling1D(4, strides=4, padding=\"same\")(x)\n",
    "#     x = Dropout(rate=0.5)(x)\n",
    "#     x = Conv1D(128, 5, activation='relu')(x)\n",
    "#     x = MaxPooling1D(5)(x)\n",
    "#     x = Dropout(rate=0.2)(x)\n",
    "#     x = Flatten()(x)\n",
    "\n",
    "    x = LSTM(64, return_sequences=True, dropout=0.5, kernel_regularizer=regularizers.l2(0.05))(x)\n",
    "#     x = Dropout(rate=0.5)(x)\n",
    "    x = LSTM(32, dropout=0.5, kernel_regularizer=regularizers.l2(0.05))(x)\n",
    "#     x = Dropout(rate=0.5)(x)\n",
    "    \n",
    "    _output = Dense(1, activation=\"sigmoid\")(x)\n",
    "    \n",
    "    model = Model(inputs=_input, outputs=_output)\n",
    "    model.compile(optimizer='adam',\n",
    "                  loss='binary_crossentropy',\n",
    "                  metrics=['accuracy'])\n",
    "\n",
    "    return model"
   ]
  },
  {
   "cell_type": "code",
   "execution_count": 28,
   "metadata": {},
   "outputs": [
    {
     "name": "stdout",
     "output_type": "stream",
     "text": [
      "Train on 25000 samples, validate on 5000 samples\n",
      "Epoch 1/3\n",
      "25000/25000 [==============================] - 373s 15ms/step - loss: 1.3400 - acc: 0.7660 - val_loss: 0.3274 - val_acc: 0.8724\n",
      "Epoch 2/3\n",
      "25000/25000 [==============================] - 402s 16ms/step - loss: 0.2677 - acc: 0.9066 - val_loss: 0.3375 - val_acc: 0.8706\n",
      "Epoch 3/3\n",
      "25000/25000 [==============================] - 411s 16ms/step - loss: 0.1931 - acc: 0.9382 - val_loss: 0.3775 - val_acc: 0.8558\n"
     ]
    },
    {
     "data": {
      "text/plain": [
       "<keras.callbacks.History at 0x7f2e259c7950>"
      ]
     },
     "execution_count": 28,
     "metadata": {},
     "output_type": "execute_result"
    }
   ],
   "source": [
    "# early_stop = EarlyStopping(monitor='val_loss', min_delta=0,\n",
    "#                                patience=10, verbose=0, mode='auto')\n",
    "\n",
    "model = setup_model()\n",
    "model.fit(x_train, y_train, epochs=3, batch_size=batch_size,  validation_data=(x_test[:5000], y_test[:5000])) #,\n",
    "#           callbacks=[TensorBoard(log_dir='/data/users-workspace/kuldeep_data/tensorflow_logs/keras_imdb_1'),\n",
    "#                      early_stop])\n"
   ]
  },
  {
   "cell_type": "code",
   "execution_count": 23,
   "metadata": {},
   "outputs": [
    {
     "name": "stdout",
     "output_type": "stream",
     "text": [
      "5000/5000 [==============================] - 22s 4ms/step\n",
      "('Train score:', 0.08343668174743653)\n",
      "('Train accuracy:', 0.9858)\n"
     ]
    }
   ],
   "source": [
    "score, acc = model.evaluate(x_train[:5000], y_train[:5000], batch_size=batch_size)\n",
    "print('Train score:', score)\n",
    "print('Train accuracy:', acc)\n"
   ]
  },
  {
   "cell_type": "code",
   "execution_count": 24,
   "metadata": {},
   "outputs": [
    {
     "name": "stdout",
     "output_type": "stream",
     "text": [
      "10000/10000 [==============================] - 45s 4ms/step\n",
      "('Test score:', 0.3735691873550415)\n",
      "('Test accuracy:', 0.8659)\n"
     ]
    }
   ],
   "source": [
    "score, acc = model.evaluate(x_test[:10000], y_test[:10000], batch_size=batch_size)\n",
    "print('Test score:', score)\n",
    "print('Test accuracy:', acc)\n"
   ]
  },
  {
   "cell_type": "code",
   "execution_count": null,
   "metadata": {},
   "outputs": [],
   "source": [
    "1+1"
   ]
  },
  {
   "cell_type": "code",
   "execution_count": null,
   "metadata": {},
   "outputs": [],
   "source": []
  }
 ],
 "metadata": {
  "kernelspec": {
   "display_name": "Python 2",
   "language": "python",
   "name": "python2"
  },
  "language_info": {
   "codemirror_mode": {
    "name": "ipython",
    "version": 2
   },
   "file_extension": ".py",
   "mimetype": "text/x-python",
   "name": "python",
   "nbconvert_exporter": "python",
   "pygments_lexer": "ipython2",
   "version": "2.7.6"
  }
 },
 "nbformat": 4,
 "nbformat_minor": 2
}
