{
 "cells": [
  {
   "cell_type": "markdown",
   "metadata": {},
   "source": [
    "# TensorFlow Digit Recognizer using Built-in RNN functions"
   ]
  },
  {
   "cell_type": "code",
   "execution_count": 1,
   "metadata": {},
   "outputs": [],
   "source": [
    "import tensorflow as tf \n",
    "import numpy as np\n",
    "from tensorflow.examples.tutorials.mnist import input_data"
   ]
  },
  {
   "cell_type": "code",
   "execution_count": 2,
   "metadata": {},
   "outputs": [
    {
     "name": "stdout",
     "output_type": "stream",
     "text": [
      "Extracting /tmp/data/train-images-idx3-ubyte.gz\n",
      "Extracting /tmp/data/train-labels-idx1-ubyte.gz\n",
      "Extracting /tmp/data/t10k-images-idx3-ubyte.gz\n",
      "Extracting /tmp/data/t10k-labels-idx1-ubyte.gz\n"
     ]
    }
   ],
   "source": [
    "mnist = input_data.read_data_sets(\"/tmp/data/\", one_hot=True)"
   ]
  },
  {
   "cell_type": "code",
   "execution_count": 3,
   "metadata": {},
   "outputs": [],
   "source": [
    "element_size = 28\n",
    "time_steps = 28\n",
    "num_classes = 10\n",
    "hidden_layer_size = 128\n",
    "batch_size = 128"
   ]
  },
  {
   "cell_type": "code",
   "execution_count": 4,
   "metadata": {},
   "outputs": [],
   "source": [
    "_inputs = tf.placeholder(tf.float32, [None, time_steps, element_size], name=\"inputs\")\n",
    "y = tf.placeholder(tf.float32, [None, num_classes], name=\"inputs\")"
   ]
  },
  {
   "cell_type": "code",
   "execution_count": 5,
   "metadata": {
    "scrolled": false
   },
   "outputs": [],
   "source": [
    "rnn_cell = tf.contrib.rnn.BasicRNNCell(hidden_layer_size)\n",
    "outputs, _ = tf.nn.dynamic_rnn(rnn_cell, _inputs, dtype=tf.float32)"
   ]
  },
  {
   "cell_type": "code",
   "execution_count": 6,
   "metadata": {},
   "outputs": [],
   "source": [
    "Wl = tf.Variable(tf.truncated_normal([hidden_layer_size, num_classes], mean=0, stddev=0.01))\n",
    "bl = tf.Variable(tf.truncated_normal([num_classes], mean=0, stddev=0.01))"
   ]
  },
  {
   "cell_type": "code",
   "execution_count": 7,
   "metadata": {},
   "outputs": [],
   "source": [
    "def get_linear_layer(vector):\n",
    "    return tf.matmul(vector, Wl) + bl\n",
    "    \n",
    "last_rnn_output = outputs[:,-1, :]\n",
    "\n",
    "final_output = get_linear_layer(last_rnn_output)"
   ]
  },
  {
   "cell_type": "code",
   "execution_count": 9,
   "metadata": {},
   "outputs": [],
   "source": [
    "cross_entropy_loss = tf.reduce_mean(tf.nn.softmax_cross_entropy_with_logits(logits=final_output, labels=y))\n",
    "\n",
    "optimizer = tf.train.RMSPropOptimizer(0.001, 0.9).minimize(cross_entropy_loss)\n",
    "\n",
    "correct_predictions = tf.equal(tf.argmax(y, 1), tf.argmax(final_output, 1))\n",
    "accuracy = (tf.reduce_mean(tf.cast(correct_predictions, tf.float32)))*100"
   ]
  },
  {
   "cell_type": "code",
   "execution_count": 15,
   "metadata": {},
   "outputs": [
    {
     "name": "stdout",
     "output_type": "stream",
     "text": [
      "Iteration: 0, Minibatch loss: 2.299481, Training Accuracy: 12.50000\n",
      "Iteration: 1000, Minibatch loss: 0.128221, Training Accuracy: 96.87500\n",
      "Iteration: 2000, Minibatch loss: 0.094989, Training Accuracy: 96.09375\n",
      "Iteration: 3000, Minibatch loss: 0.149405, Training Accuracy: 97.65625\n",
      "Iteration: 4000, Minibatch loss: 0.032887, Training Accuracy: 99.21875\n",
      "Iteration: 5000, Minibatch loss: 0.063167, Training Accuracy: 98.43750\n",
      "Iteration: 6000, Minibatch loss: 0.006450, Training Accuracy: 100.00000\n",
      "Iteration: 7000, Minibatch loss: 0.009558, Training Accuracy: 100.00000\n",
      "Iteration: 8000, Minibatch loss: 0.021926, Training Accuracy: 99.21875\n",
      "Iteration: 9000, Minibatch loss: 0.011684, Training Accuracy: 100.00000\n",
      "Test Accuracy: 96.87500, Test loss: 0.127121\n"
     ]
    }
   ],
   "source": [
    "sess = tf.InteractiveSession()\n",
    "sess.run(tf.global_variables_initializer())\n",
    "\n",
    "test_data = mnist.test.images[:batch_size].reshape((-1, time_steps, element_size))\n",
    "test_labels = mnist.test.labels[:batch_size]\n",
    "\n",
    "for i in range(10000):\n",
    "    \n",
    "    batch_x, batch_y = mnist.train.next_batch(batch_size)\n",
    "    batch_x = batch_x.reshape((batch_size, time_steps, element_size))\n",
    "    \n",
    "    sess.run(optimizer, feed_dict={\n",
    "        _inputs: batch_x, y: batch_y\n",
    "    })\n",
    "    \n",
    "    if i%1000 == 0:\n",
    "        acc, loss = sess.run([accuracy, cross_entropy_loss], feed_dict={\n",
    "        _inputs: batch_x, y: batch_y\n",
    "        })\n",
    "        print \"Iteration: \" + str(i) +\", Minibatch loss: {:.6f}\".format(loss)\\\n",
    "        + \", Training Accuracy: {:.5f}\".format(acc)\n",
    "    \n",
    "    \n",
    "test_acc, test_loss = sess.run([accuracy, cross_entropy_loss], feed_dict={\n",
    "        _inputs: test_data, y: test_labels\n",
    "})\n",
    "\n",
    "print \"Test Accuracy: {:.5f}\".format(test_acc) + \", Test loss: {:.6f}\".format(test_loss)\n"
   ]
  },
  {
   "cell_type": "code",
   "execution_count": null,
   "metadata": {},
   "outputs": [],
   "source": []
  }
 ],
 "metadata": {
  "kernelspec": {
   "display_name": "Python 2",
   "language": "python",
   "name": "python2"
  },
  "language_info": {
   "codemirror_mode": {
    "name": "ipython",
    "version": 2
   },
   "file_extension": ".py",
   "mimetype": "text/x-python",
   "name": "python",
   "nbconvert_exporter": "python",
   "pygments_lexer": "ipython2",
   "version": "2.7.6"
  }
 },
 "nbformat": 4,
 "nbformat_minor": 2
}
