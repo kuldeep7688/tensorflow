{
 "cells": [
  {
   "cell_type": "markdown",
   "metadata": {},
   "source": [
    "# CNN on MNIST (Simple)"
   ]
  },
  {
   "cell_type": "code",
   "execution_count": 3,
   "metadata": {},
   "outputs": [],
   "source": [
    "import tensorflow as tf\n",
    "import numpy as np\n",
    "from tensorflow.examples.tutorials.mnist import input_data"
   ]
  },
  {
   "cell_type": "markdown",
   "metadata": {},
   "source": [
    "#### Helper functions"
   ]
  },
  {
   "cell_type": "code",
   "execution_count": 21,
   "metadata": {},
   "outputs": [],
   "source": [
    "def weight_variable(shape):\n",
    "    initial = tf.truncated_normal(shape, stddev=0.1)\n",
    "    return tf.Variable(initial)\n",
    "\n",
    "def bias_variable(shape):\n",
    "    initial = tf.constant(0.1, shape=shape)\n",
    "    return tf.Variable(initial)\n",
    "\n",
    "def conv2d(x, W):\n",
    "    return tf.nn.conv2d(x, W, strides=[1,1,1,1], padding=\"SAME\")\n",
    "\n",
    "def max_pool_2x2(x):\n",
    "    return tf.nn.max_pool(x, ksize=[1,2,2,1], strides=[1,2,2,1], padding=\"SAME\")\n",
    "\n",
    "def conv_layer(input, shape):\n",
    "    W = weight_variable(shape)\n",
    "    b = bias_variable([shape[3]])\n",
    "    return tf.nn.relu(conv2d(input, W) + b)\n",
    "\n",
    "def full_layer(input, size):\n",
    "    in_size = int(input.get_shape()[1])\n",
    "    W = weight_variable([in_size, size])\n",
    "    b = bias_variable([size])\n",
    "    return tf.matmul(input, W) + b"
   ]
  },
  {
   "cell_type": "markdown",
   "metadata": {},
   "source": [
    "#### Input data"
   ]
  },
  {
   "cell_type": "code",
   "execution_count": 8,
   "metadata": {},
   "outputs": [
    {
     "name": "stdout",
     "output_type": "stream",
     "text": [
      "Extracting /tmp/data/train-images-idx3-ubyte.gz\n",
      "Extracting /tmp/data/train-labels-idx1-ubyte.gz\n",
      "Extracting /tmp/data/t10k-images-idx3-ubyte.gz\n",
      "Extracting /tmp/data/t10k-labels-idx1-ubyte.gz\n"
     ]
    }
   ],
   "source": [
    "mnist = input_data.read_data_sets(\"/tmp/data\", one_hot=True)"
   ]
  },
  {
   "cell_type": "markdown",
   "metadata": {},
   "source": [
    "#### Model"
   ]
  },
  {
   "cell_type": "code",
   "execution_count": 22,
   "metadata": {},
   "outputs": [],
   "source": [
    "x = tf.placeholder(tf.float32, [None, 784])\n",
    "y_ = tf.placeholder(tf.float32, [None, 10])\n",
    "\n",
    "x_image = tf.reshape(x, [-1, 28, 28, 1])\n",
    "\n",
    "conv_1 = conv_layer(x_image, shape=[5, 5, 1, 32])\n",
    "max_pool_1 = max_pool_2x2(conv_1)\n",
    "\n",
    "conv_2 = conv_layer(max_pool_1, [5, 5, 32, 64])\n",
    "max_pool_2 = max_pool_2x2(conv_2)\n",
    "\n",
    "conv_2_flat = tf.reshape(max_pool_2, [-1, 7*7*64])\n",
    "full_1 = tf.nn.relu(full_layer(conv_2_flat, 1024))\n",
    "\n",
    "keep_prob = tf.placeholder(tf.float32)\n",
    "full_1_drop = tf.nn.dropout(full_1, keep_prob=keep_prob)\n",
    "\n",
    "y_conv = full_layer(full_1_drop, 10)"
   ]
  },
  {
   "cell_type": "code",
   "execution_count": 24,
   "metadata": {},
   "outputs": [],
   "source": [
    "loss = tf.reduce_mean(tf.nn.softmax_cross_entropy_with_logits(labels=y_, logits=y_conv))\n",
    "\n",
    "optimizer = tf.train.AdamOptimizer(1e-4).minimize(loss)\n",
    "\n",
    "correct_prediction = tf.equal(tf.argmax(y_conv, 1), tf.argmax(y_, 1))\n",
    "accuracy = tf.reduce_mean(tf.cast(correct_prediction, tf.float32))"
   ]
  },
  {
   "cell_type": "code",
   "execution_count": 35,
   "metadata": {},
   "outputs": [
    {
     "name": "stdout",
     "output_type": "stream",
     "text": [
      "step: 0 , training_accuracy: 0.0799999982119\n",
      "step: 100 , training_accuracy: 0.839999973774\n",
      "step: 200 , training_accuracy: 0.899999976158\n",
      "step: 300 , training_accuracy: 0.939999997616\n",
      "step: 400 , training_accuracy: 0.980000019073\n",
      "step: 500 , training_accuracy: 0.899999976158\n",
      "step: 600 , training_accuracy: 0.959999978542\n",
      "step: 700 , training_accuracy: 0.939999997616\n",
      "step: 800 , training_accuracy: 0.879999995232\n",
      "step: 900 , training_accuracy: 0.980000019073\n",
      "step: 1000 , training_accuracy: 0.959999978542\n",
      "step: 1100 , training_accuracy: 1.0\n",
      "step: 1200 , training_accuracy: 0.959999978542\n",
      "step: 1300 , training_accuracy: 0.939999997616\n",
      "step: 1400 , training_accuracy: 0.939999997616\n",
      "step: 1500 , training_accuracy: 0.980000019073\n",
      "step: 1600 , training_accuracy: 1.0\n",
      "step: 1700 , training_accuracy: 0.980000019073\n",
      "step: 1800 , training_accuracy: 1.0\n",
      "step: 1900 , training_accuracy: 1.0\n",
      "step: 2000 , training_accuracy: 1.0\n",
      "step: 2100 , training_accuracy: 0.980000019073\n",
      "step: 2200 , training_accuracy: 1.0\n",
      "step: 2300 , training_accuracy: 0.980000019073\n",
      "step: 2400 , training_accuracy: 0.980000019073\n",
      "step: 2500 , training_accuracy: 1.0\n",
      "step: 2600 , training_accuracy: 1.0\n",
      "step: 2700 , training_accuracy: 0.980000019073\n",
      "step: 2800 , training_accuracy: 1.0\n",
      "step: 2900 , training_accuracy: 0.980000019073\n",
      "step: 3000 , training_accuracy: 0.959999978542\n",
      "step: 3100 , training_accuracy: 1.0\n",
      "step: 3200 , training_accuracy: 0.939999997616\n",
      "step: 3300 , training_accuracy: 0.980000019073\n",
      "step: 3400 , training_accuracy: 1.0\n",
      "step: 3500 , training_accuracy: 0.980000019073\n",
      "step: 3600 , training_accuracy: 0.980000019073\n",
      "step: 3700 , training_accuracy: 1.0\n",
      "step: 3800 , training_accuracy: 1.0\n",
      "step: 3900 , training_accuracy: 1.0\n",
      "step: 4000 , training_accuracy: 0.980000019073\n",
      "step: 4100 , training_accuracy: 0.980000019073\n",
      "step: 4200 , training_accuracy: 1.0\n",
      "step: 4300 , training_accuracy: 1.0\n",
      "step: 4400 , training_accuracy: 0.980000019073\n",
      "step: 4500 , training_accuracy: 1.0\n",
      "step: 4600 , training_accuracy: 0.980000019073\n",
      "step: 4700 , training_accuracy: 0.980000019073\n",
      "step: 4800 , training_accuracy: 1.0\n",
      "step: 4900 , training_accuracy: 1.0\n",
      "test accuracy: 1.0\n"
     ]
    }
   ],
   "source": [
    "NUM_STEPS = 5000\n",
    "MINI_BATCH_SIZE = 50\n",
    "with tf.Session() as sess:\n",
    "    sess.run(tf.global_variables_initializer())\n",
    "    \n",
    "    for i in range(NUM_STEPS):\n",
    "        batch_x, batch_y = mnist.train.next_batch(MINI_BATCH_SIZE)\n",
    "        \n",
    "        if i%100 == 0:\n",
    "            train_accuracy = sess.run(accuracy, feed_dict={\n",
    "                x: batch_x, y_: batch_y, keep_prob: 1.0\n",
    "            })\n",
    "            print \"step: {} , training_accuracy: {}\".format(i, train_accuracy)\n",
    "        \n",
    "        sess.run(optimizer, feed_dict={\n",
    "                x: batch_x, y_: batch_y, keep_prob: 0.5\n",
    "            })\n",
    "    \n",
    "    X_test = mnist.test.images.reshape(10, 1000, 784)\n",
    "    y_test = mnist.test.labels.reshape(10, 1000, 10)\n",
    "    test_accuracy = np.mean([sess.run(accuracy,\n",
    "                                     feed_dict= {x: X_test[i], y_: y_test[i], keep_prob: 1.0})\n",
    "                            for i in range(10)])\n",
    "    print \"test accuracy: {}\".format(train_accuracy)"
   ]
  },
  {
   "cell_type": "code",
   "execution_count": null,
   "metadata": {},
   "outputs": [],
   "source": []
  }
 ],
 "metadata": {
  "kernelspec": {
   "display_name": "Python 2",
   "language": "python",
   "name": "python2"
  },
  "language_info": {
   "codemirror_mode": {
    "name": "ipython",
    "version": 2
   },
   "file_extension": ".py",
   "mimetype": "text/x-python",
   "name": "python",
   "nbconvert_exporter": "python",
   "pygments_lexer": "ipython2",
   "version": "2.7.6"
  }
 },
 "nbformat": 4,
 "nbformat_minor": 2
}
